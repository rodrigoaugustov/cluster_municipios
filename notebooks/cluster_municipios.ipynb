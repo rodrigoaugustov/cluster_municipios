{
 "cells": [
  {
   "cell_type": "markdown",
   "metadata": {},
   "source": [
    "# Municípios do Brasil"
   ]
  },
  {
   "cell_type": "markdown",
   "metadata": {},
   "source": [
    "## Preparação do Ambiente"
   ]
  },
  {
   "cell_type": "code",
   "execution_count": 75,
   "metadata": {},
   "outputs": [
    {
     "name": "stderr",
     "output_type": "stream",
     "text": [
      "24/06/07 00:09:46 WARN Utils: Your hostname, codespaces-8e509d resolves to a loopback address: 127.0.0.1; using 172.16.5.4 instead (on interface eth0)\n",
      "24/06/07 00:09:46 WARN Utils: Set SPARK_LOCAL_IP if you need to bind to another address\n"
     ]
    },
    {
     "name": "stdout",
     "output_type": "stream",
     "text": [
      ":: loading settings :: url = jar:file:/usr/local/python/3.10.13/lib/python3.10/site-packages/pyspark/jars/ivy-2.5.1.jar!/org/apache/ivy/core/settings/ivysettings.xml\n"
     ]
    },
    {
     "name": "stderr",
     "output_type": "stream",
     "text": [
      "Ivy Default Cache set to: /home/codespace/.ivy2/cache\n",
      "The jars for the packages stored in: /home/codespace/.ivy2/jars\n",
      "graphframes#graphframes added as a dependency\n",
      ":: resolving dependencies :: org.apache.spark#spark-submit-parent-aae78927-36f3-4f78-8a10-73f1d16088b8;1.0\n",
      "\tconfs: [default]\n",
      "\tfound graphframes#graphframes;0.8.2-spark3.0-s_2.12 in spark-packages\n",
      "\tfound org.slf4j#slf4j-api;1.7.16 in central\n",
      "downloading https://repos.spark-packages.org/graphframes/graphframes/0.8.2-spark3.0-s_2.12/graphframes-0.8.2-spark3.0-s_2.12.jar ...\n",
      "\t[SUCCESSFUL ] graphframes#graphframes;0.8.2-spark3.0-s_2.12!graphframes.jar (37ms)\n",
      "downloading https://repo1.maven.org/maven2/org/slf4j/slf4j-api/1.7.16/slf4j-api-1.7.16.jar ...\n",
      "\t[SUCCESSFUL ] org.slf4j#slf4j-api;1.7.16!slf4j-api.jar (25ms)\n",
      ":: resolution report :: resolve 1122ms :: artifacts dl 65ms\n",
      "\t:: modules in use:\n",
      "\tgraphframes#graphframes;0.8.2-spark3.0-s_2.12 from spark-packages in [default]\n",
      "\torg.slf4j#slf4j-api;1.7.16 from central in [default]\n",
      "\t---------------------------------------------------------------------\n",
      "\t|                  |            modules            ||   artifacts   |\n",
      "\t|       conf       | number| search|dwnlded|evicted|| number|dwnlded|\n",
      "\t---------------------------------------------------------------------\n",
      "\t|      default     |   2   |   2   |   2   |   0   ||   2   |   2   |\n",
      "\t---------------------------------------------------------------------\n",
      ":: retrieving :: org.apache.spark#spark-submit-parent-aae78927-36f3-4f78-8a10-73f1d16088b8\n",
      "\tconfs: [default]\n",
      "\t2 artifacts copied, 0 already retrieved (281kB/5ms)\n",
      "24/06/07 00:09:48 WARN NativeCodeLoader: Unable to load native-hadoop library for your platform... using builtin-java classes where applicable\n",
      "Setting default log level to \"WARN\".\n",
      "To adjust logging level use sc.setLogLevel(newLevel). For SparkR, use setLogLevel(newLevel).\n"
     ]
    }
   ],
   "source": [
    "from pyspark.sql import SparkSession\n",
    "from pyspark.sql.types import DateType\n",
    "import pyspark.sql.functions as f\n",
    "\n",
    "# Criação da sessão Spark\n",
    "spark = SparkSession.builder \\\n",
    "    .appName(\"Clusterização de Pontos Próximos\") \\\n",
    "    .config(\"spark.jars.packages\", \"graphframes:graphframes:0.8.2-spark3.0-s_2.12\") \\\n",
    "    .getOrCreate()"
   ]
  },
  {
   "cell_type": "markdown",
   "metadata": {},
   "source": [
    "Definição do diretório de checkpoint (Necessário para funcionamento da lib GraphFrame)"
   ]
  },
  {
   "cell_type": "code",
   "execution_count": 114,
   "metadata": {},
   "outputs": [],
   "source": [
    "import os\n",
    "# Configurar o diretório de checkpoint\n",
    "checkpoint_dir = \"/tmp/spark-checkpoint\"\n",
    "os.makedirs(checkpoint_dir, exist_ok=True)\n",
    "spark.sparkContext.setCheckpointDir(checkpoint_dir)"
   ]
  },
  {
   "cell_type": "markdown",
   "metadata": {},
   "source": [
    "## Carga dos Dados"
   ]
  },
  {
   "cell_type": "code",
   "execution_count": 82,
   "metadata": {},
   "outputs": [],
   "source": [
    "df = spark.read.csv('/workspaces/codespaces-jupyter/data/MunicipiosBrasil.csv', header=True, sep=';')\\\n",
    "          .select('ID', 'LATITUDE', 'LONGITUDE', 'MUNICIPIO', 'UF')"
   ]
  },
  {
   "cell_type": "code",
   "execution_count": 83,
   "metadata": {},
   "outputs": [],
   "source": [
    "df = df.withColumn(\"LATITUDE\", f.regexp_replace(\"LATITUDE\", ',', '.').cast(\"float\"))\\\n",
    "       .withColumn(\"LONGITUDE\", f.regexp_replace(\"LONGITUDE\", ',', '.').cast(\"float\"))"
   ]
  },
  {
   "cell_type": "code",
   "execution_count": 84,
   "metadata": {},
   "outputs": [
    {
     "name": "stdout",
     "output_type": "stream",
     "text": [
      "+---+--------+---------+--------------------+---+\n",
      "| ID|LATITUDE|LONGITUDE|           MUNICIPIO| UF|\n",
      "+---+--------+---------+--------------------+---+\n",
      "|  1|   -9.82|   -66.88|          ACRELANDIA| AC|\n",
      "|  2|  -10.94|   -69.56|        ASSIS BRASIL| AC|\n",
      "|  3|  -11.01|   -68.74|           BRASILEIA| AC|\n",
      "|  4|   -9.83|   -67.95|              BUJARI| AC|\n",
      "|  5|  -10.57|   -67.67|            CAPIXABA| AC|\n",
      "|  6|   -7.63|   -72.67|     CRUZEIRO DO SUL| AC|\n",
      "|  7|  -11.02|   -68.74|      EPITACIOLANDIA| AC|\n",
      "|  8|   -8.16|   -70.35|               FEIJO| AC|\n",
      "|  9|   -9.43|   -71.88|              JORDAO| AC|\n",
      "| 10|   -7.61|   -72.89|         MANCIO LIMA| AC|\n",
      "| 11|   -8.83|   -69.26|       MANOEL URBANO| AC|\n",
      "| 12|   -8.94|   -72.79|MARECHAL THAUMATURGO| AC|\n",
      "| 13|  -10.27|   -67.15|   PLACIDO DE CASTRO| AC|\n",
      "| 14|   -9.58|   -67.53|          PORTO ACRE| AC|\n",
      "| 15|   -8.26|   -72.74|        PORTO WALTER| AC|\n",
      "| 16|   -9.97|   -67.81|          RIO BRANCO| AC|\n",
      "| 17|   -7.74|   -72.64|     RODRIGUES ALVES| AC|\n",
      "| 18|   -9.43|   -70.49| SANTA ROSA DO PURUS| AC|\n",
      "| 19|   -9.06|   -68.65|      SENA MADUREIRA| AC|\n",
      "| 20|  -10.15|   -67.73|    SENADOR GUIOMARD| AC|\n",
      "+---+--------+---------+--------------------+---+\n",
      "only showing top 20 rows\n",
      "\n"
     ]
    }
   ],
   "source": [
    "df.show()"
   ]
  },
  {
   "cell_type": "code",
   "execution_count": 85,
   "metadata": {},
   "outputs": [
    {
     "data": {
      "text/plain": [
       "5509"
      ]
     },
     "execution_count": 85,
     "metadata": {},
     "output_type": "execute_result"
    }
   ],
   "source": [
    "df.count()"
   ]
  },
  {
   "cell_type": "markdown",
   "metadata": {},
   "source": [
    "## CrossJoin"
   ]
  },
  {
   "cell_type": "markdown",
   "metadata": {},
   "source": [
    "O objetivo é buscar todas as combinações de pontos possíveis."
   ]
  },
  {
   "cell_type": "code",
   "execution_count": 87,
   "metadata": {},
   "outputs": [],
   "source": [
    "df_b = df.select([f.col(c).alias(c + \"_B\") for c in df.columns])"
   ]
  },
  {
   "cell_type": "code",
   "execution_count": 93,
   "metadata": {},
   "outputs": [],
   "source": [
    "df_full = df.crossJoin(df_b).where('ID < ID_B')"
   ]
  },
  {
   "cell_type": "markdown",
   "metadata": {},
   "source": [
    "## Calculando a distância"
   ]
  },
  {
   "cell_type": "code",
   "execution_count": 105,
   "metadata": {},
   "outputs": [],
   "source": [
    "def haversine_distance(df):\n",
    "    '''\n",
    "    Converte a latitude e longitude em radianos\n",
    "    Calcula a diferença entre longitude e latitude\n",
    "    Aplica a formla de Haversine para calcular a distancia\n",
    "    '''\n",
    "\n",
    "    # Raio da Terra em Metros\n",
    "    EARTH_RADIUS = 6371000\n",
    "\n",
    "    df_distance =  df.withColumn('lat1_rad', f.radians(f.col('LATITUDE')))\\\n",
    "                     .withColumn('lon1_rad', f.radians(f.col('LONGITUDE')))\\\n",
    "                     .withColumn('lat2_rad', f.radians(f.col('LATITUDE_B')))\\\n",
    "                     .withColumn('lon2_rad', f.radians(f.col('LONGITUDE_B')))\\\n",
    "                     .withColumn('dlon', f.col('lon2_rad') - f.col('lon1_rad'))\\\n",
    "                     .withColumn('dlat', f.col('lat2_rad') - f.col('lat1_rad'))\\\n",
    "                     .withColumn('a', f.pow(f.sin(f.col('dlat') / 2), 2) + \n",
    "                                            f.cos(f.col('lat1_rad')) * f.cos(f.col('lat2_rad')) *\n",
    "                                            f.pow(f.sin(f.col('dlon') / 2), 2))\\\n",
    "                     .withColumn('c', 2 * f.asin(f.sqrt(f.col('a'))))\\\n",
    "                     .withColumn('distance', f.col('c') * EARTH_RADIUS)\n",
    "\n",
    "    return df_distance"
   ]
  },
  {
   "cell_type": "code",
   "execution_count": 109,
   "metadata": {},
   "outputs": [],
   "source": [
    "df_distance = haversine_distance(df_full).select('ID', 'ID_B', 'distance')"
   ]
  },
  {
   "cell_type": "markdown",
   "metadata": {},
   "source": [
    "### Filtra as distância menores que o ponto de corte desejado"
   ]
  },
  {
   "cell_type": "code",
   "execution_count": 117,
   "metadata": {},
   "outputs": [],
   "source": [
    "# Ponto de corte (em metros)\n",
    "ponto_corte = 5000"
   ]
  },
  {
   "cell_type": "code",
   "execution_count": 118,
   "metadata": {},
   "outputs": [],
   "source": [
    "df_filtrado = df_distance.filter(f.col(\"distance\") <= ponto_corte)"
   ]
  },
  {
   "cell_type": "markdown",
   "metadata": {},
   "source": [
    "## Criação dos Grafos"
   ]
  },
  {
   "cell_type": "markdown",
   "metadata": {},
   "source": [
    "### Definição dos Vértices e Arestas"
   ]
  },
  {
   "cell_type": "code",
   "execution_count": 119,
   "metadata": {},
   "outputs": [],
   "source": [
    "from graphframes import GraphFrame\n",
    "\n",
    "vertices = df_filtrado.select(f.col(\"ID\").alias(\"id\")).union(df_filtrado.select(f.col(\"ID_B\").alias(\"id\"))).distinct()\n",
    "arestas = df_filtrado.select(f.col(\"ID\").alias(\"src\"), f.col(\"ID_B\").alias(\"dst\"))"
   ]
  },
  {
   "cell_type": "code",
   "execution_count": 120,
   "metadata": {},
   "outputs": [
    {
     "name": "stderr",
     "output_type": "stream",
     "text": [
      "/home/codespace/.python/current/lib/python3.10/site-packages/pyspark/sql/dataframe.py:168: UserWarning: DataFrame.sql_ctx is an internal property, and will be removed in future releases. Use DataFrame.sparkSession instead.\n",
      "  warnings.warn(\n"
     ]
    }
   ],
   "source": [
    "# Crie o Grafo\n",
    "g = GraphFrame(vertices, arestas)"
   ]
  },
  {
   "cell_type": "markdown",
   "metadata": {},
   "source": [
    "### Encontra os componentes conectados"
   ]
  },
  {
   "cell_type": "code",
   "execution_count": 121,
   "metadata": {},
   "outputs": [
    {
     "name": "stderr",
     "output_type": "stream",
     "text": [
      "[Stage 521:========================================>            (151 + 4) / 200]\r"
     ]
    },
    {
     "name": "stdout",
     "output_type": "stream",
     "text": [
      "CPU times: user 59.5 ms, sys: 10.9 ms, total: 70.4 ms\n",
      "Wall time: 44.2 s\n"
     ]
    },
    {
     "name": "stderr",
     "output_type": "stream",
     "text": [
      "/home/codespace/.python/current/lib/python3.10/site-packages/pyspark/sql/dataframe.py:147: UserWarning: DataFrame constructor is internal. Do not directly use it.\n",
      "  warnings.warn(\"DataFrame constructor is internal. Do not directly use it.\")\n"
     ]
    }
   ],
   "source": [
    "%%time\n",
    "\n",
    "result = g.connectedComponents()"
   ]
  },
  {
   "cell_type": "markdown",
   "metadata": {},
   "source": [
    "### Criação dos Clusters"
   ]
  },
  {
   "cell_type": "code",
   "execution_count": 122,
   "metadata": {},
   "outputs": [
    {
     "name": "stderr",
     "output_type": "stream",
     "text": [
      "[Stage 541:============================>                            (1 + 1) / 2]\r"
     ]
    },
    {
     "name": "stdout",
     "output_type": "stream",
     "text": [
      "+-----------+------------+\n",
      "|component  |points      |\n",
      "+-----------+------------+\n",
      "|8589934592 |[1669, 1437]|\n",
      "|25769803776|[2100, 1953]|\n",
      "|25769803777|[5297, 5187]|\n",
      "|25769803778|[7, 3]      |\n",
      "|34359738368|[923, 1445] |\n",
      "|34359738369|[5207, 3167]|\n",
      "|34359738370|[3944, 3898]|\n",
      "|42949672960|[3786, 3743]|\n",
      "|42949672961|[4534, 4417]|\n",
      "|60129542144|[2194, 2199]|\n",
      "+-----------+------------+\n",
      "only showing top 10 rows\n",
      "\n"
     ]
    },
    {
     "name": "stderr",
     "output_type": "stream",
     "text": [
      "                                                                                \r"
     ]
    }
   ],
   "source": [
    "# Agrupar os pontos pelo componente\n",
    "clusters = result.groupBy(\"component\").agg(f.collect_list(\"id\").alias(\"points\"))\n",
    "\n",
    "# Mostrar os clusters\n",
    "clusters.show(10, truncate=False)"
   ]
  },
  {
   "cell_type": "markdown",
   "metadata": {},
   "source": [
    "# Visualização"
   ]
  },
  {
   "cell_type": "code",
   "execution_count": 126,
   "metadata": {},
   "outputs": [
    {
     "name": "stderr",
     "output_type": "stream",
     "text": [
      "                                                                                \r"
     ]
    }
   ],
   "source": [
    "df_pandas = df_filtrado.select(f.col('ID').alias('from'),\n",
    "                               f.col('ID_B').alias('to'),\n",
    "                               f.col('distance').alias('weight')\n",
    "                               ).toPandas()"
   ]
  },
  {
   "cell_type": "code",
   "execution_count": 129,
   "metadata": {},
   "outputs": [],
   "source": [
    "# Explode a lista de pontos para unir com a tabela de municípios\n",
    "clusters_exploded_df = clusters.withColumn(\"point\", f.explode(f.col(\"points\")))\n",
    "clusters_exploded_df = clusters_exploded_df.join(df, clusters_exploded_df.point == df.ID)"
   ]
  },
  {
   "cell_type": "code",
   "execution_count": 130,
   "metadata": {},
   "outputs": [
    {
     "name": "stderr",
     "output_type": "stream",
     "text": [
      "                                                                                \r"
     ]
    }
   ],
   "source": [
    "clusters_pd_df = clusters_exploded_df.select(\"component\", \"LATITUDE\", \"LONGITUDE\", \"MUNICIPIO\", \"UF\").toPandas()"
   ]
  },
  {
   "cell_type": "code",
   "execution_count": 157,
   "metadata": {},
   "outputs": [
    {
     "data": {
      "application/vnd.plotly.v1+json": {
       "config": {
        "plotlyServerURL": "https://plot.ly"
       },
       "data": [
        {
         "lat": [
          -19.43000030517578,
          -19.420000076293945
         ],
         "lon": [
          -42.209999084472656,
          -42.2400016784668
         ],
         "opacity": 0.6,
         "radius": 40,
         "showscale": false,
         "type": "densitymapbox",
         "z": [
          1,
          1
         ]
        },
        {
         "lat": [
          -22.209999084472656,
          -22.190000534057617
         ],
         "lon": [
          -44.970001220703125,
          -44.970001220703125
         ],
         "opacity": 0.6,
         "radius": 40,
         "showscale": false,
         "type": "densitymapbox",
         "z": [
          1,
          1
         ]
        },
        {
         "lat": [
          -23.959999084472656,
          -24
         ],
         "lon": [
          -46.38999938964844,
          -46.400001525878906
         ],
         "opacity": 0.6,
         "radius": 40,
         "showscale": false,
         "type": "densitymapbox",
         "z": [
          1,
          1
         ]
        },
        {
         "lat": [
          -11.020000457763672,
          -11.010000228881836
         ],
         "lon": [
          -68.73999786376953,
          -68.73999786376953
         ],
         "opacity": 0.6,
         "radius": 40,
         "showscale": false,
         "type": "densitymapbox",
         "z": [
          1,
          1
         ]
        },
        {
         "lat": [
          -18.489999771118164,
          -18.510000228881836
         ],
         "lon": [
          -49.470001220703125,
          -49.5
         ],
         "opacity": 0.6,
         "radius": 40,
         "showscale": false,
         "type": "densitymapbox",
         "z": [
          1,
          1
         ]
        },
        {
         "lat": [
          -24.649999618530273,
          -24.649999618530273
         ],
         "lon": [
          -49,
          -48.9900016784668
         ],
         "opacity": 0.6,
         "radius": 40,
         "showscale": false,
         "type": "densitymapbox",
         "z": [
          1,
          1
         ]
        },
        {
         "lat": [
          -29.950000762939453,
          -29.989999771118164
         ],
         "lon": [
          -51.09000015258789,
          -51.08000183105469
         ],
         "opacity": 0.6,
         "radius": 40,
         "showscale": false,
         "type": "densitymapbox",
         "z": [
          1,
          1
         ]
        },
        {
         "lat": [
          -6.070000171661377,
          -6.090000152587891
         ],
         "lon": [
          -35.22999954223633,
          -35.20000076293945
         ],
         "opacity": 0.6,
         "radius": 40,
         "showscale": false,
         "type": "densitymapbox",
         "z": [
          1,
          1
         ]
        },
        {
         "lat": [
          -27.34000015258789,
          -27.34000015258789
         ],
         "lon": [
          -51.61000061035156,
          -51.61000061035156
         ],
         "opacity": 0.6,
         "radius": 40,
         "showscale": false,
         "type": "densitymapbox",
         "z": [
          1,
          1
         ]
        },
        {
         "lat": [
          -20.479999542236328,
          -20.469999313354492
         ],
         "lon": [
          -55.79999923706055,
          -55.779998779296875
         ],
         "opacity": 0.6,
         "radius": 40,
         "showscale": false,
         "type": "densitymapbox",
         "z": [
          1,
          1
         ]
        },
        {
         "lat": [
          -6.630000114440918,
          -6.610000133514404
         ],
         "lon": [
          -35.290000915527344,
          -35.290000915527344
         ],
         "opacity": 0.6,
         "radius": 40,
         "showscale": false,
         "type": "densitymapbox",
         "z": [
          1,
          1
         ]
        },
        {
         "lat": [
          -6.239999771118164,
          -6.25
         ],
         "lon": [
          -42.849998474121094,
          -42.849998474121094
         ],
         "opacity": 0.6,
         "radius": 40,
         "showscale": false,
         "type": "densitymapbox",
         "z": [
          1,
          1
         ]
        },
        {
         "lat": [
          -8.25,
          -8.279999732971191
         ],
         "lon": [
          -49.2599983215332,
          -49.2400016784668
         ],
         "opacity": 0.6,
         "radius": 40,
         "showscale": false,
         "type": "densitymapbox",
         "z": [
          1,
          1
         ]
        },
        {
         "lat": [
          -26.25,
          -26.25
         ],
         "lon": [
          -53.63999938964844,
          -53.630001068115234
         ],
         "opacity": 0.6,
         "radius": 40,
         "showscale": false,
         "type": "densitymapbox",
         "z": [
          1,
          1
         ]
        },
        {
         "lat": [
          -7.059999942779541,
          -7.099999904632568
         ],
         "lon": [
          -35.310001373291016,
          -35.31999969482422
         ],
         "opacity": 0.6,
         "radius": 40,
         "showscale": false,
         "type": "densitymapbox",
         "z": [
          1,
          1
         ]
        },
        {
         "lat": [
          -4.21999979019165,
          -4.260000228881836
         ],
         "lon": [
          -38.91999816894531,
          -38.93000030517578
         ],
         "opacity": 0.6,
         "radius": 40,
         "showscale": false,
         "type": "densitymapbox",
         "z": [
          1,
          1
         ]
        },
        {
         "lat": [
          -15.800000190734863,
          -15.800000190734863
         ],
         "lon": [
          -43.29999923706055,
          -43.29999923706055
         ],
         "opacity": 0.6,
         "radius": 40,
         "showscale": false,
         "type": "densitymapbox",
         "z": [
          1,
          1
         ]
        },
        {
         "lat": [
          -31.850000381469727,
          -31.860000610351562
         ],
         "lon": [
          -52.810001373291016,
          -52.81999969482422
         ],
         "opacity": 0.6,
         "radius": 40,
         "showscale": false,
         "type": "densitymapbox",
         "z": [
          1,
          1
         ]
        },
        {
         "lat": [
          -20.170000076293945,
          -20.1299991607666
         ],
         "lon": [
          -48.68000030517578,
          -48.70000076293945
         ],
         "opacity": 0.6,
         "radius": 40,
         "showscale": false,
         "type": "densitymapbox",
         "z": [
          1,
          1
         ]
        },
        {
         "lat": [
          -21.040000915527344,
          -21.010000228881836
         ],
         "lon": [
          -40.81999969482422,
          -40.83000183105469
         ],
         "opacity": 0.6,
         "radius": 40,
         "showscale": false,
         "type": "densitymapbox",
         "z": [
          1,
          1
         ]
        },
        {
         "lat": [
          -28.1200008392334,
          -28.1200008392334
         ],
         "lon": [
          -54.880001068115234,
          -54.83000183105469
         ],
         "opacity": 0.6,
         "radius": 40,
         "showscale": false,
         "type": "densitymapbox",
         "z": [
          1,
          1
         ]
        },
        {
         "lat": [
          -21.969999313354492,
          -21.950000762939453
         ],
         "lon": [
          -44.93000030517578,
          -44.88999938964844
         ],
         "opacity": 0.6,
         "radius": 40,
         "showscale": false,
         "type": "densitymapbox",
         "z": [
          1,
          1
         ]
        },
        {
         "lat": [
          -14.470000267028809,
          -14.479999542236328
         ],
         "lon": [
          -46.47999954223633,
          -46.4900016784668
         ],
         "opacity": 0.6,
         "radius": 40,
         "showscale": false,
         "type": "densitymapbox",
         "z": [
          1,
          1
         ]
        },
        {
         "lat": [
          -7.769999980926514,
          -7.730000019073486
         ],
         "lon": [
          -35.849998474121094,
          -35.869998931884766
         ],
         "opacity": 0.6,
         "radius": 40,
         "showscale": false,
         "type": "densitymapbox",
         "z": [
          1,
          1
         ]
        },
        {
         "lat": [
          -5.260000228881836,
          -5.28000020980835
         ],
         "lon": [
          -36.720001220703125,
          -36.7599983215332
         ],
         "opacity": 0.6,
         "radius": 40,
         "showscale": false,
         "type": "densitymapbox",
         "z": [
          1,
          1
         ]
        },
        {
         "lat": [
          -22.6299991607666,
          -22.610000610351562
         ],
         "lon": [
          -46.02000045776367,
          -46.04999923706055
         ],
         "opacity": 0.6,
         "radius": 40,
         "showscale": false,
         "type": "densitymapbox",
         "z": [
          1,
          1
         ]
        },
        {
         "lat": [
          -6.820000171661377,
          -6.809999942779541
         ],
         "lon": [
          -41.31999969482422,
          -41.34000015258789
         ],
         "opacity": 0.6,
         "radius": 40,
         "showscale": false,
         "type": "densitymapbox",
         "z": [
          1,
          1
         ]
        },
        {
         "lat": [
          -29.540000915527344,
          -29.549999237060547
         ],
         "lon": [
          -51.54999923706055,
          -51.59000015258789
         ],
         "opacity": 0.6,
         "radius": 40,
         "showscale": false,
         "type": "densitymapbox",
         "z": [
          1,
          1
         ]
        },
        {
         "lat": [
          -27.600000381469727,
          -27.559999465942383
         ],
         "lon": [
          -53.15999984741211,
          -53.18000030517578
         ],
         "opacity": 0.6,
         "radius": 40,
         "showscale": false,
         "type": "densitymapbox",
         "z": [
          1,
          1
         ]
        },
        {
         "lat": [
          -14.329999923706055,
          -14.300000190734863
         ],
         "lon": [
          -43.77000045776367,
          -43.7599983215332
         ],
         "opacity": 0.6,
         "radius": 40,
         "showscale": false,
         "type": "densitymapbox",
         "z": [
          1,
          1
         ]
        },
        {
         "lat": [
          -6.78000020980835,
          -6.739999771118164
         ],
         "lon": [
          -35.4900016784668,
          -35.5099983215332
         ],
         "opacity": 0.6,
         "radius": 40,
         "showscale": false,
         "type": "densitymapbox",
         "z": [
          1,
          1
         ]
        },
        {
         "lat": [
          -22.020000457763672,
          -21.979999542236328
         ],
         "lon": [
          -42.36000061035156,
          -42.36000061035156
         ],
         "opacity": 0.6,
         "radius": 40,
         "showscale": false,
         "type": "densitymapbox",
         "z": [
          1,
          1
         ]
        },
        {
         "lat": [
          -20.309999465942383,
          -20.329999923706055
         ],
         "lon": [
          -40.33000183105469,
          -40.290000915527344
         ],
         "opacity": 0.6,
         "radius": 40,
         "showscale": false,
         "type": "densitymapbox",
         "z": [
          1,
          1
         ]
        },
        {
         "lat": [
          -26.110000610351562,
          -26.100000381469727
         ],
         "lon": [
          -49.79999923706055,
          -49.790000915527344
         ],
         "opacity": 0.6,
         "radius": 40,
         "showscale": false,
         "type": "densitymapbox",
         "z": [
          1,
          1
         ]
        },
        {
         "lat": [
          -12.779999732971191,
          -12.789999961853027
         ],
         "lon": [
          -46.5,
          -46.529998779296875
         ],
         "opacity": 0.6,
         "radius": 40,
         "showscale": false,
         "type": "densitymapbox",
         "z": [
          1,
          1
         ]
        },
        {
         "lat": [
          -23.209999084472656,
          -23.200000762939453
         ],
         "lon": [
          -46.81999969482422,
          -46.779998779296875
         ],
         "opacity": 0.6,
         "radius": 40,
         "showscale": false,
         "type": "densitymapbox",
         "z": [
          1,
          1
         ]
        },
        {
         "lat": [
          -23.510000228881836,
          -23.520000457763672,
          -23.530000686645508,
          -23.540000915527344,
          -23.520000457763672
         ],
         "lon": [
          -46.869998931884766,
          -46.900001525878906,
          -46.790000915527344,
          -46.93000030517578,
          -46.83000183105469
         ],
         "opacity": 0.6,
         "radius": 40,
         "showscale": false,
         "type": "densitymapbox",
         "z": [
          1,
          1,
          1,
          1,
          1
         ]
        },
        {
         "lat": [
          -20.040000915527344,
          -20.06999969482422
         ],
         "lon": [
          -44.27000045776367,
          -44.29999923706055
         ],
         "opacity": 0.6,
         "radius": 40,
         "showscale": false,
         "type": "densitymapbox",
         "z": [
          1,
          1
         ]
        },
        {
         "lat": [
          -7.110000133514404,
          -7.119999885559082
         ],
         "lon": [
          -34.970001220703125,
          -34.93000030517578
         ],
         "opacity": 0.6,
         "radius": 40,
         "showscale": false,
         "type": "densitymapbox",
         "z": [
          1,
          1
         ]
        },
        {
         "lat": [
          -7.909999847412109,
          -7.940000057220459
         ],
         "lon": [
          -34.900001525878906,
          -34.869998931884766
         ],
         "opacity": 0.6,
         "radius": 40,
         "showscale": false,
         "type": "densitymapbox",
         "z": [
          1,
          1
         ]
        },
        {
         "lat": [
          -27.90999984741211,
          -27.889999389648438
         ],
         "lon": [
          -52.2599983215332,
          -52.220001220703125
         ],
         "opacity": 0.6,
         "radius": 40,
         "showscale": false,
         "type": "densitymapbox",
         "z": [
          1,
          1
         ]
        },
        {
         "lat": [
          -29.420000076293945,
          -29.43000030517578
         ],
         "lon": [
          -51.5099983215332,
          -51.5099983215332
         ],
         "opacity": 0.6,
         "radius": 40,
         "showscale": false,
         "type": "densitymapbox",
         "z": [
          1,
          1
         ]
        },
        {
         "lat": [
          -20.649999618530273,
          -20.690000534057617
         ],
         "lon": [
          -41.900001525878906,
          -41.91999816894531
         ],
         "opacity": 0.6,
         "radius": 40,
         "showscale": false,
         "type": "densitymapbox",
         "z": [
          1,
          1
         ]
        },
        {
         "lat": [
          -6.269999980926514,
          -6.309999942779541
         ],
         "lon": [
          -35.4900016784668,
          -35.470001220703125
         ],
         "opacity": 0.6,
         "radius": 40,
         "showscale": false,
         "type": "densitymapbox",
         "z": [
          1,
          1
         ]
        },
        {
         "lat": [
          -21.1299991607666,
          -21.1200008392334
         ],
         "lon": [
          -44.2599983215332,
          -44.220001220703125
         ],
         "opacity": 0.6,
         "radius": 40,
         "showscale": false,
         "type": "densitymapbox",
         "z": [
          1,
          1
         ]
        },
        {
         "lat": [
          -10.899999618530273,
          -10.90999984741211
         ],
         "lon": [
          -37.029998779296875,
          -37.06999969482422
         ],
         "opacity": 0.6,
         "radius": 40,
         "showscale": false,
         "type": "densitymapbox",
         "z": [
          1,
          1
         ]
        },
        {
         "lat": [
          -4.980000019073486,
          -4.949999809265137
         ],
         "lon": [
          -37.150001525878906,
          -37.130001068115234
         ],
         "opacity": 0.6,
         "radius": 40,
         "showscale": false,
         "type": "densitymapbox",
         "z": [
          1,
          1
         ]
        },
        {
         "lat": [
          -27.06999969482422,
          -27.06999969482422
         ],
         "lon": [
          -53,
          -52.97999954223633
         ],
         "opacity": 0.6,
         "radius": 40,
         "showscale": false,
         "type": "densitymapbox",
         "z": [
          1,
          1
         ]
        },
        {
         "lat": [
          -19.959999084472656,
          -19.979999542236328
         ],
         "lon": [
          -43.79999923706055,
          -43.84000015258789
         ],
         "opacity": 0.6,
         "radius": 40,
         "showscale": false,
         "type": "densitymapbox",
         "z": [
          1,
          1
         ]
        },
        {
         "lat": [
          -1.350000023841858,
          -1.3600000143051147
         ],
         "lon": [
          -48.34000015258789,
          -48.369998931884766
         ],
         "opacity": 0.6,
         "radius": 40,
         "showscale": false,
         "type": "densitymapbox",
         "z": [
          1,
          1
         ]
        },
        {
         "lat": [
          -0.7099999785423279,
          -0.75
         ],
         "lon": [
          -48.52000045776367,
          -48.5099983215332
         ],
         "opacity": 0.6,
         "radius": 40,
         "showscale": false,
         "type": "densitymapbox",
         "z": [
          1,
          1
         ]
        },
        {
         "lat": [
          -9.109999656677246,
          -9.109999656677246
         ],
         "lon": [
          -45.91999816894531,
          -45.93000030517578
         ],
         "opacity": 0.6,
         "radius": 40,
         "showscale": false,
         "type": "densitymapbox",
         "z": [
          1,
          1
         ]
        },
        {
         "lat": [
          -23.65999984741211,
          -23.6200008392334,
          -23.690000534057617
         ],
         "lon": [
          -46.529998779296875,
          -46.54999923706055,
          -46.560001373291016
         ],
         "opacity": 0.6,
         "radius": 40,
         "showscale": false,
         "type": "densitymapbox",
         "z": [
          1,
          1,
          1
         ]
        },
        {
         "lat": [
          -6.849999904632568,
          -6.889999866485596,
          -6.849999904632568
         ],
         "lon": [
          -35.52000045776367,
          -35.52000045776367,
          -35.4900016784668
         ],
         "opacity": 0.6,
         "radius": 40,
         "showscale": false,
         "type": "densitymapbox",
         "z": [
          1,
          1,
          1
         ]
        },
        {
         "lat": [
          -8.729999542236328,
          -8.770000457763672
         ],
         "lon": [
          -36.619998931884766,
          -36.619998931884766
         ],
         "opacity": 0.6,
         "radius": 40,
         "showscale": false,
         "type": "densitymapbox",
         "z": [
          1,
          1
         ]
        },
        {
         "lat": [
          -6.039999961853027,
          -6.079999923706055
         ],
         "lon": [
          -42.709999084472656,
          -42.72999954223633
         ],
         "opacity": 0.6,
         "radius": 40,
         "showscale": false,
         "type": "densitymapbox",
         "z": [
          1,
          1
         ]
        },
        {
         "lat": [
          -6.179999828338623,
          -6.159999847412109
         ],
         "lon": [
          -35.09000015258789,
          -35.119998931884766
         ],
         "opacity": 0.6,
         "radius": 40,
         "showscale": false,
         "type": "densitymapbox",
         "z": [
          1,
          1
         ]
        },
        {
         "lat": [
          -9.619999885559082,
          -9.640000343322754
         ],
         "lon": [
          -37.75,
          -37.779998779296875
         ],
         "opacity": 0.6,
         "radius": 40,
         "showscale": false,
         "type": "densitymapbox",
         "z": [
          1,
          1
         ]
        },
        {
         "lat": [
          -12.619999885559082,
          -12.600000381469727,
          -12.609999656677246
         ],
         "lon": [
          -38.9900016784668,
          -38.970001220703125,
          -38.95000076293945
         ],
         "opacity": 0.6,
         "radius": 40,
         "showscale": false,
         "type": "densitymapbox",
         "z": [
          1,
          1,
          1
         ]
        },
        {
         "lat": [
          -22.399999618530273,
          -22.420000076293945
         ],
         "lon": [
          -44.25,
          -44.290000915527344
         ],
         "opacity": 0.6,
         "radius": 40,
         "showscale": false,
         "type": "densitymapbox",
         "z": [
          1,
          1
         ]
        },
        {
         "lat": [
          -6.760000228881836,
          -6.75
         ],
         "lon": [
          -43.02000045776367,
          -43.02000045776367
         ],
         "opacity": 0.6,
         "radius": 40,
         "showscale": false,
         "type": "densitymapbox",
         "z": [
          1,
          1
         ]
        },
        {
         "lat": [
          -27.420000076293945,
          -27.40999984741211
         ],
         "lon": [
          -49.779998779296875,
          -49.81999969482422
         ],
         "opacity": 0.6,
         "radius": 40,
         "showscale": false,
         "type": "densitymapbox",
         "z": [
          1,
          1
         ]
        },
        {
         "lat": [
          -29.579999923706055,
          -29.610000610351562
         ],
         "lon": [
          -50.900001525878906,
          -50.91999816894531
         ],
         "opacity": 0.6,
         "radius": 40,
         "showscale": false,
         "type": "densitymapbox",
         "z": [
          1,
          1
         ]
        },
        {
         "lat": [
          -26.760000228881836,
          -26.760000228881836
         ],
         "lon": [
          -48.66999816894531,
          -48.63999938964844
         ],
         "opacity": 0.6,
         "radius": 40,
         "showscale": false,
         "type": "densitymapbox",
         "z": [
          1,
          1
         ]
        },
        {
         "lat": [
          -27.149999618530273,
          -27.1299991607666
         ],
         "lon": [
          -48.54999923706055,
          -48.5099983215332
         ],
         "opacity": 0.6,
         "radius": 40,
         "showscale": false,
         "type": "densitymapbox",
         "z": [
          1,
          1
         ]
        },
        {
         "lat": [
          -10.319999694824219,
          -10.289999961853027,
          -10.289999961853027
         ],
         "lon": [
          -36.56999969482422,
          -36.58000183105469,
          -36.599998474121094
         ],
         "opacity": 0.6,
         "radius": 40,
         "showscale": false,
         "type": "densitymapbox",
         "z": [
          1,
          1,
          1
         ]
        },
        {
         "lat": [
          -18.1200008392334,
          -18.09000015258789
         ],
         "lon": [
          -40.540000915527344,
          -40.5099983215332
         ],
         "opacity": 0.6,
         "radius": 40,
         "showscale": false,
         "type": "densitymapbox",
         "z": [
          1,
          1
         ]
        },
        {
         "lat": [
          -6.119999885559082,
          -6.150000095367432
         ],
         "lon": [
          -37.810001373291016,
          -37.84000015258789
         ],
         "opacity": 0.6,
         "radius": 40,
         "showscale": false,
         "type": "densitymapbox",
         "z": [
          1,
          1
         ]
        },
        {
         "lat": [
          -26.889999389648438,
          -26.899999618530273
         ],
         "lon": [
          -48.650001525878906,
          -48.65999984741211
         ],
         "opacity": 0.6,
         "radius": 40,
         "showscale": false,
         "type": "densitymapbox",
         "z": [
          1,
          1
         ]
        },
        {
         "lat": [
          -10.329999923706055,
          -10.34000015258789
         ],
         "lon": [
          -36.880001068115234,
          -36.91999816894531
         ],
         "opacity": 0.6,
         "radius": 40,
         "showscale": false,
         "type": "densitymapbox",
         "z": [
          1,
          1
         ]
        },
        {
         "lat": [
          -6.679999828338623,
          -6.670000076293945,
          -6.679999828338623
         ],
         "lon": [
          -35.439998626708984,
          -35.369998931884766,
          -35.40999984741211
         ],
         "opacity": 0.6,
         "radius": 40,
         "showscale": false,
         "type": "densitymapbox",
         "z": [
          1,
          1,
          1
         ]
        },
        {
         "lat": [
          -22.84000015258789,
          -22.84000015258789
         ],
         "lon": [
          -45.22999954223633,
          -45.25
         ],
         "opacity": 0.6,
         "radius": 40,
         "showscale": false,
         "type": "densitymapbox",
         "z": [
          1,
          1
         ]
        },
        {
         "lat": [
          -21.1299991607666,
          -21.110000610351562
         ],
         "lon": [
          -41.68000030517578,
          -41.66999816894531
         ],
         "opacity": 0.6,
         "radius": 40,
         "showscale": false,
         "type": "densitymapbox",
         "z": [
          1,
          1
         ]
        },
        {
         "lat": [
          -16.190000534057617,
          -16.190000534057617
         ],
         "lon": [
          -52.540000915527344,
          -52.54999923706055
         ],
         "opacity": 0.6,
         "radius": 40,
         "showscale": false,
         "type": "densitymapbox",
         "z": [
          1,
          1
         ]
        },
        {
         "lat": [
          -21.889999389648438,
          -21.899999618530273
         ],
         "lon": [
          -44.5099983215332,
          -44.5099983215332
         ],
         "opacity": 0.6,
         "radius": 40,
         "showscale": false,
         "type": "densitymapbox",
         "z": [
          1,
          1
         ]
        },
        {
         "lat": [
          -7.019999980926514,
          -7.019999980926514
         ],
         "lon": [
          -35.86000061035156,
          -35.900001525878906
         ],
         "opacity": 0.6,
         "radius": 40,
         "showscale": false,
         "type": "densitymapbox",
         "z": [
          1,
          1
         ]
        },
        {
         "lat": [
          -14.449999809265137,
          -14.449999809265137
         ],
         "lon": [
          -56.79999923706055,
          -56.84000015258789
         ],
         "opacity": 0.6,
         "radius": 40,
         "showscale": false,
         "type": "densitymapbox",
         "z": [
          1,
          1
         ]
        },
        {
         "lat": [
          -29.190000534057617,
          -29.209999084472656
         ],
         "lon": [
          -49.95000076293945,
          -49.93000030517578
         ],
         "opacity": 0.6,
         "radius": 40,
         "showscale": false,
         "type": "densitymapbox",
         "z": [
          1,
          1
         ]
        },
        {
         "lat": [
          -20.239999771118164,
          -20.239999771118164
         ],
         "lon": [
          -50.63999938964844,
          -50.68000030517578
         ],
         "opacity": 0.6,
         "radius": 40,
         "showscale": false,
         "type": "densitymapbox",
         "z": [
          1,
          1
         ]
        },
        {
         "lat": [
          -18.420000076293945,
          -18.43000030517578
         ],
         "lon": [
          -49.209999084472656,
          -49.18000030517578
         ],
         "opacity": 0.6,
         "radius": 40,
         "showscale": false,
         "type": "densitymapbox",
         "z": [
          1,
          1
         ]
        },
        {
         "lat": [
          -14.3100004196167,
          -14.3100004196167
         ],
         "lon": [
          -39.31999969482422,
          -39.31999969482422
         ],
         "opacity": 0.6,
         "radius": 40,
         "showscale": false,
         "type": "densitymapbox",
         "z": [
          1,
          1
         ]
        },
        {
         "lat": [
          -2.1700000762939453,
          -2.180000066757202
         ],
         "lon": [
          -56.7400016784668,
          -56.709999084472656
         ],
         "opacity": 0.6,
         "radius": 40,
         "showscale": false,
         "type": "densitymapbox",
         "z": [
          1,
          1
         ]
        },
        {
         "lat": [
          -25.639999389648438,
          -25.65999984741211
         ],
         "lon": [
          -52.099998474121094,
          -52.119998931884766
         ],
         "opacity": 0.6,
         "radius": 40,
         "showscale": false,
         "type": "densitymapbox",
         "z": [
          1,
          1
         ]
        },
        {
         "lat": [
          -8.390000343322754,
          -8.380000114440918
         ],
         "lon": [
          -48.11000061035156,
          -48.11000061035156
         ],
         "opacity": 0.6,
         "radius": 40,
         "showscale": false,
         "type": "densitymapbox",
         "z": [
          1,
          1
         ]
        },
        {
         "lat": [
          -19.270000457763672,
          -19.290000915527344
         ],
         "lon": [
          -44.400001525878906,
          -44.40999984741211
         ],
         "opacity": 0.6,
         "radius": 40,
         "showscale": false,
         "type": "densitymapbox",
         "z": [
          1,
          1
         ]
        },
        {
         "lat": [
          -27.3799991607666,
          -27.399999618530273
         ],
         "lon": [
          -52.45000076293945,
          -52.40999984741211
         ],
         "opacity": 0.6,
         "radius": 40,
         "showscale": false,
         "type": "densitymapbox",
         "z": [
          1,
          1
         ]
        },
        {
         "lat": [
          -2.859999895095825,
          -2.8299999237060547
         ],
         "lon": [
          -44.029998779296875,
          -44.04999923706055
         ],
         "opacity": 0.6,
         "radius": 40,
         "showscale": false,
         "type": "densitymapbox",
         "z": [
          1,
          1
         ]
        },
        {
         "lat": [
          -20.030000686645508,
          -20.049999237060547
         ],
         "lon": [
          -44.13999938964844,
          -44.18000030517578
         ],
         "opacity": 0.6,
         "radius": 40,
         "showscale": false,
         "type": "densitymapbox",
         "z": [
          1,
          1
         ]
        },
        {
         "lat": [
          -22.760000228881836,
          -22.799999237060547,
          -22.799999237060547
         ],
         "lon": [
          -43.38999938964844,
          -43.369998931884766,
          -43.40999984741211
         ],
         "opacity": 0.6,
         "radius": 40,
         "showscale": false,
         "type": "densitymapbox",
         "z": [
          1,
          1,
          1
         ]
        },
        {
         "lat": [
          -10.119999885559082,
          -10.130000114440918
         ],
         "lon": [
          -36.900001525878906,
          -36.93000030517578
         ],
         "opacity": 0.6,
         "radius": 40,
         "showscale": false,
         "type": "densitymapbox",
         "z": [
          1,
          1
         ]
        },
        {
         "lat": [
          -6.53000020980835,
          -6.519999980926514
         ],
         "lon": [
          -39.4900016784668,
          -39.52000045776367
         ],
         "opacity": 0.6,
         "radius": 40,
         "showscale": false,
         "type": "densitymapbox",
         "z": [
          1,
          1
         ]
        },
        {
         "lat": [
          -26.920000076293945,
          -26.950000762939453
         ],
         "lon": [
          -49.36000061035156,
          -49.369998931884766
         ],
         "opacity": 0.6,
         "radius": 40,
         "showscale": false,
         "type": "densitymapbox",
         "z": [
          1,
          1
         ]
        },
        {
         "lat": [
          -23.540000915527344,
          -23.540000915527344,
          -23.479999542236328,
          -23.520000457763672
         ],
         "lon": [
          -46.36000061035156,
          -46.310001373291016,
          -46.34000015258789,
          -46.34000015258789
         ],
         "opacity": 0.6,
         "radius": 40,
         "showscale": false,
         "type": "densitymapbox",
         "z": [
          1,
          1,
          1,
          1
         ]
        },
        {
         "lat": [
          -2.9200000762939453,
          -2.9200000762939453
         ],
         "lon": [
          -44.060001373291016,
          -44.04999923706055
         ],
         "opacity": 0.6,
         "radius": 40,
         "showscale": false,
         "type": "densitymapbox",
         "z": [
          1,
          1
         ]
        },
        {
         "lat": [
          -29.309999465942383,
          -29.329999923706055
         ],
         "lon": [
          -49.720001220703125,
          -49.720001220703125
         ],
         "opacity": 0.6,
         "radius": 40,
         "showscale": false,
         "type": "densitymapbox",
         "z": [
          1,
          1
         ]
        },
        {
         "lat": [
          -29.969999313354492,
          -29.979999542236328
         ],
         "lon": [
          -50.119998931884766,
          -50.130001068115234
         ],
         "opacity": 0.6,
         "radius": 40,
         "showscale": false,
         "type": "densitymapbox",
         "z": [
          1,
          1
         ]
        },
        {
         "lat": [
          -28.81999969482422,
          -28.850000381469727
         ],
         "lon": [
          -51.27000045776367,
          -51.279998779296875
         ],
         "opacity": 0.6,
         "radius": 40,
         "showscale": false,
         "type": "densitymapbox",
         "z": [
          1,
          1
         ]
        },
        {
         "lat": [
          -10.680000305175781,
          -10.640000343322754
         ],
         "lon": [
          -36.97999954223633,
          -36.97999954223633
         ],
         "opacity": 0.6,
         "radius": 40,
         "showscale": false,
         "type": "densitymapbox",
         "z": [
          1,
          1
         ]
        },
        {
         "lat": [
          -17.34000015258789,
          -17.350000381469727
         ],
         "lon": [
          -44.939998626708984,
          -44.959999084472656
         ],
         "opacity": 0.6,
         "radius": 40,
         "showscale": false,
         "type": "densitymapbox",
         "z": [
          1,
          1
         ]
        },
        {
         "lat": [
          -7.139999866485596,
          -7.139999866485596
         ],
         "lon": [
          -35.22999954223633,
          -35.25
         ],
         "opacity": 0.6,
         "radius": 40,
         "showscale": false,
         "type": "densitymapbox",
         "z": [
          1,
          1
         ]
        },
        {
         "lat": [
          -7.21999979019165,
          -7.21999979019165
         ],
         "lon": [
          -44.54999923706055,
          -44.54999923706055
         ],
         "opacity": 0.6,
         "radius": 40,
         "showscale": false,
         "type": "densitymapbox",
         "z": [
          1,
          1
         ]
        },
        {
         "lat": [
          -23.31999969482422,
          -23.360000610351562,
          -23.280000686645508
         ],
         "lon": [
          -46.720001220703125,
          -46.7400016784668,
          -46.7400016784668
         ],
         "opacity": 0.6,
         "radius": 40,
         "showscale": false,
         "type": "densitymapbox",
         "z": [
          1,
          1,
          1
         ]
        },
        {
         "lat": [
          -7.409999847412109,
          -7.400000095367432
         ],
         "lon": [
          -35.11000061035156,
          -35.11000061035156
         ],
         "opacity": 0.6,
         "radius": 40,
         "showscale": false,
         "type": "densitymapbox",
         "z": [
          1,
          1
         ]
        },
        {
         "lat": [
          -13.029999732971191,
          -13.069999694824219
         ],
         "lon": [
          -39.0099983215332,
          -39
         ],
         "opacity": 0.6,
         "radius": 40,
         "showscale": false,
         "type": "densitymapbox",
         "z": [
          1,
          1
         ]
        },
        {
         "lat": [
          -10.199999809265137,
          -10.210000038146973,
          -10.180000305175781
         ],
         "lon": [
          -36.880001068115234,
          -36.84000015258789,
          -36.84000015258789
         ],
         "opacity": 0.6,
         "radius": 40,
         "showscale": false,
         "type": "densitymapbox",
         "z": [
          1,
          1,
          1
         ]
        },
        {
         "lat": [
          -29.799999237060547,
          -29.760000228881836
         ],
         "lon": [
          -50.040000915527344,
          -50.029998779296875
         ],
         "opacity": 0.6,
         "radius": 40,
         "showscale": false,
         "type": "densitymapbox",
         "z": [
          1,
          1
         ]
        },
        {
         "lat": [
          -22.5,
          -22.489999771118164
         ],
         "lon": [
          -48.54999923706055,
          -48.54999923706055
         ],
         "opacity": 0.6,
         "radius": 40,
         "showscale": false,
         "type": "densitymapbox",
         "z": [
          1,
          1
         ]
        },
        {
         "lat": [
          -24.739999771118164,
          -24.700000762939453
         ],
         "lon": [
          -47.540000915527344,
          -47.54999923706055
         ],
         "opacity": 0.6,
         "radius": 40,
         "showscale": false,
         "type": "densitymapbox",
         "z": [
          1,
          1
         ]
        },
        {
         "lat": [
          -9.390000343322754,
          -9.40999984741211
         ],
         "lon": [
          -40.5,
          -40.5
         ],
         "opacity": 0.6,
         "radius": 40,
         "showscale": false,
         "type": "densitymapbox",
         "z": [
          1,
          1
         ]
        },
        {
         "lat": [
          -20.229999542236328,
          -20.209999084472656
         ],
         "lon": [
          -50.88999938964844,
          -50.91999816894531
         ],
         "opacity": 0.6,
         "radius": 40,
         "showscale": false,
         "type": "densitymapbox",
         "z": [
          1,
          1
         ]
        },
        {
         "lat": [
          -5.090000152587891,
          -5.079999923706055
         ],
         "lon": [
          -42.83000183105469,
          -42.79999923706055
         ],
         "opacity": 0.6,
         "radius": 40,
         "showscale": false,
         "type": "densitymapbox",
         "z": [
          1,
          1
         ]
        },
        {
         "lat": [
          -27.020000457763672,
          -26.989999771118164
         ],
         "lon": [
          -48.650001525878906,
          -48.630001068115234
         ],
         "opacity": 0.6,
         "radius": 40,
         "showscale": false,
         "type": "densitymapbox",
         "z": [
          1,
          1
         ]
        },
        {
         "lat": [
          -23.739999771118164,
          -23.709999084472656
         ],
         "lon": [
          -46.38999938964844,
          -46.40999984741211
         ],
         "opacity": 0.6,
         "radius": 40,
         "showscale": false,
         "type": "densitymapbox",
         "z": [
          1,
          1
         ]
        },
        {
         "lat": [
          -8.960000038146973,
          -8.970000267028809,
          -8.960000038146973
         ],
         "lon": [
          -48.16999816894531,
          -48.18000030517578,
          -48.15999984741211
         ],
         "opacity": 0.6,
         "radius": 40,
         "showscale": false,
         "type": "densitymapbox",
         "z": [
          1,
          1,
          1
         ]
        },
        {
         "lat": [
          -29.459999084472656,
          -29.510000228881836,
          -29.5
         ],
         "lon": [
          -51.959999084472656,
          -51.97999954223633,
          -51.959999084472656
         ],
         "opacity": 0.6,
         "radius": 40,
         "showscale": false,
         "type": "densitymapbox",
         "z": [
          1,
          1,
          1
         ]
        },
        {
         "lat": [
          -23.010000228881836,
          -22.989999771118164
         ],
         "lon": [
          -47.52000045776367,
          -47.5
         ],
         "opacity": 0.6,
         "radius": 40,
         "showscale": false,
         "type": "densitymapbox",
         "z": [
          1,
          1
         ]
        },
        {
         "lat": [
          -15.300000190734863,
          -15.3100004196167
         ],
         "lon": [
          -49.59000015258789,
          -49.58000183105469
         ],
         "opacity": 0.6,
         "radius": 40,
         "showscale": false,
         "type": "densitymapbox",
         "z": [
          1,
          1
         ]
        },
        {
         "lat": [
          -15.890000343322754,
          -15.890000343322754
         ],
         "lon": [
          -52.25,
          -52.25
         ],
         "opacity": 0.6,
         "radius": 40,
         "showscale": false,
         "type": "densitymapbox",
         "z": [
          1,
          1
         ]
        },
        {
         "lat": [
          -29.59000015258789,
          -29.59000015258789
         ],
         "lon": [
          -51.20000076293945,
          -51.15999984741211
         ],
         "opacity": 0.6,
         "radius": 40,
         "showscale": false,
         "type": "densitymapbox",
         "z": [
          1,
          1
         ]
        },
        {
         "lat": [
          -27.170000076293945,
          -27.190000534057617
         ],
         "lon": [
          -51.5,
          -51.4900016784668
         ],
         "opacity": 0.6,
         "radius": 40,
         "showscale": false,
         "type": "densitymapbox",
         "z": [
          1,
          1
         ]
        },
        {
         "lat": [
          -10.399999618530273,
          -10.420000076293945
         ],
         "lon": [
          -36.43000030517578,
          -36.459999084472656
         ],
         "opacity": 0.6,
         "radius": 40,
         "showscale": false,
         "type": "densitymapbox",
         "z": [
          1,
          1
         ]
        },
        {
         "lat": [
          -31.200000762939453,
          -31.200000762939453
         ],
         "lon": [
          -51.38999938964844,
          -51.38999938964844
         ],
         "opacity": 0.6,
         "radius": 40,
         "showscale": false,
         "type": "densitymapbox",
         "z": [
          1,
          1
         ]
        },
        {
         "lat": [
          -21.68000030517578,
          -21.719999313354492
         ],
         "lon": [
          -48.08000183105469,
          -48.099998474121094
         ],
         "opacity": 0.6,
         "radius": 40,
         "showscale": false,
         "type": "densitymapbox",
         "z": [
          1,
          1
         ]
        },
        {
         "lat": [
          -18.81999969482422,
          -18.81999969482422
         ],
         "lon": [
          -42.439998626708984,
          -42.470001220703125
         ],
         "opacity": 0.6,
         "radius": 40,
         "showscale": false,
         "type": "densitymapbox",
         "z": [
          1,
          1
         ]
        },
        {
         "lat": [
          -29.610000610351562,
          -29.56999969482422
         ],
         "lon": [
          -53.439998626708984,
          -53.439998626708984
         ],
         "opacity": 0.6,
         "radius": 40,
         "showscale": false,
         "type": "densitymapbox",
         "z": [
          1,
          1
         ]
        },
        {
         "lat": [
          -7.329999923706055,
          -7.329999923706055
         ],
         "lon": [
          -47.4900016784668,
          -47.459999084472656
         ],
         "opacity": 0.6,
         "radius": 40,
         "showscale": false,
         "type": "densitymapbox",
         "z": [
          1,
          1
         ]
        },
        {
         "lat": [
          -12.420000076293945,
          -12.390000343322754
         ],
         "lon": [
          -38.720001220703125,
          -38.75
         ],
         "opacity": 0.6,
         "radius": 40,
         "showscale": false,
         "type": "densitymapbox",
         "z": [
          1,
          1
         ]
        },
        {
         "lat": [
          -9.5600004196167,
          -9.5600004196167
         ],
         "lon": [
          -48.369998931884766,
          -48.38999938964844
         ],
         "opacity": 0.6,
         "radius": 40,
         "showscale": false,
         "type": "densitymapbox",
         "z": [
          1,
          1
         ]
        },
        {
         "lat": [
          -19.559999465942383,
          -19.520000457763672
         ],
         "lon": [
          -44.439998626708984,
          -44.45000076293945
         ],
         "opacity": 0.6,
         "radius": 40,
         "showscale": false,
         "type": "densitymapbox",
         "z": [
          1,
          1
         ]
        },
        {
         "lat": [
          -27.420000076293945,
          -27.399999618530273
         ],
         "lon": [
          -51.77000045776367,
          -51.77000045776367
         ],
         "opacity": 0.6,
         "radius": 40,
         "showscale": false,
         "type": "densitymapbox",
         "z": [
          1,
          1
         ]
        },
        {
         "lat": [
          -19.700000762939453,
          -19.690000534057617
         ],
         "lon": [
          -43.95000076293945,
          -43.91999816894531
         ],
         "opacity": 0.6,
         "radius": 40,
         "showscale": false,
         "type": "densitymapbox",
         "z": [
          1,
          1
         ]
        },
        {
         "lat": [
          -26.719999313354492,
          -26.760000228881836
         ],
         "lon": [
          -52.86000061035156,
          -52.849998474121094
         ],
         "opacity": 0.6,
         "radius": 40,
         "showscale": false,
         "type": "densitymapbox",
         "z": [
          1,
          1
         ]
        },
        {
         "lat": [
          -6.75,
          -6.769999980926514
         ],
         "lon": [
          -35.709999084472656,
          -35.689998626708984
         ],
         "opacity": 0.6,
         "radius": 40,
         "showscale": false,
         "type": "densitymapbox",
         "z": [
          1,
          1
         ]
        },
        {
         "lat": [
          -17.309999465942383,
          -17.31999969482422
         ],
         "lon": [
          -53.209999084472656,
          -53.20000076293945
         ],
         "opacity": 0.6,
         "radius": 40,
         "showscale": false,
         "type": "densitymapbox",
         "z": [
          1,
          1
         ]
        },
        {
         "lat": [
          -25.219999313354492,
          -25.190000534057617
         ],
         "lon": [
          -49.34000015258789,
          -49.310001373291016
         ],
         "opacity": 0.6,
         "radius": 40,
         "showscale": false,
         "type": "densitymapbox",
         "z": [
          1,
          1
         ]
        },
        {
         "lat": [
          -6.320000171661377,
          -6.329999923706055
         ],
         "lon": [
          -47.40999984741211,
          -47.38999938964844
         ],
         "opacity": 0.6,
         "radius": 40,
         "showscale": false,
         "type": "densitymapbox",
         "z": [
          1,
          1
         ]
        },
        {
         "lat": [
          -22.93000030517578,
          -22.959999084472656
         ],
         "lon": [
          -52.150001525878906,
          -52.15999984741211
         ],
         "opacity": 0.6,
         "radius": 40,
         "showscale": false,
         "type": "densitymapbox",
         "z": [
          1,
          1
         ]
        },
        {
         "lat": [
          -13.390000343322754,
          -13.399999618530273
         ],
         "lon": [
          -44.189998626708984,
          -44.189998626708984
         ],
         "opacity": 0.6,
         "radius": 40,
         "showscale": false,
         "type": "densitymapbox",
         "z": [
          1,
          1
         ]
        },
        {
         "lat": [
          -27.450000762939453,
          -27.459999084472656
         ],
         "lon": [
          -51.869998931884766,
          -51.900001525878906
         ],
         "opacity": 0.6,
         "radius": 40,
         "showscale": false,
         "type": "densitymapbox",
         "z": [
          1,
          1
         ]
        },
        {
         "lat": [
          -21.729999542236328,
          -21.719999313354492
         ],
         "lon": [
          -43.029998779296875,
          -43.04999923706055
         ],
         "opacity": 0.6,
         "radius": 40,
         "showscale": false,
         "type": "densitymapbox",
         "z": [
          1,
          1
         ]
        },
        {
         "lat": [
          -9.5600004196167,
          -9.630000114440918,
          -9.600000381469727
         ],
         "lon": [
          -35.81999969482422,
          -35.79999923706055,
          -35.81999969482422
         ],
         "opacity": 0.6,
         "radius": 40,
         "showscale": false,
         "type": "densitymapbox",
         "z": [
          1,
          1,
          1
         ]
        },
        {
         "lat": [
          -6.409999847412109,
          -6.400000095367432
         ],
         "lon": [
          -48.529998779296875,
          -48.54999923706055
         ],
         "opacity": 0.6,
         "radius": 40,
         "showscale": false,
         "type": "densitymapbox",
         "z": [
          1,
          1
         ]
        },
        {
         "lat": [
          -19.549999237060547,
          -19.540000915527344
         ],
         "lon": [
          -44.08000183105469,
          -44.11000061035156
         ],
         "opacity": 0.6,
         "radius": 40,
         "showscale": false,
         "type": "densitymapbox",
         "z": [
          1,
          1
         ]
        },
        {
         "lat": [
          -27.190000534057617,
          -27.15999984741211
         ],
         "lon": [
          -53.709999084472656,
          -53.709999084472656
         ],
         "opacity": 0.6,
         "radius": 40,
         "showscale": false,
         "type": "densitymapbox",
         "z": [
          1,
          1
         ]
        },
        {
         "lat": [
          -29.950000762939453,
          -29.940000534057617
         ],
         "lon": [
          -51.720001220703125,
          -51.709999084472656
         ],
         "opacity": 0.6,
         "radius": 40,
         "showscale": false,
         "type": "densitymapbox",
         "z": [
          1,
          1
         ]
        },
        {
         "lat": [
          -23.5,
          -23.540000915527344
         ],
         "lon": [
          -47.45000076293945,
          -47.43000030517578
         ],
         "opacity": 0.6,
         "radius": 40,
         "showscale": false,
         "type": "densitymapbox",
         "z": [
          1,
          1
         ]
        },
        {
         "lat": [
          -26.959999084472656,
          -26.93000030517578
         ],
         "lon": [
          -53.630001068115234,
          -53.61000061035156
         ],
         "opacity": 0.6,
         "radius": 40,
         "showscale": false,
         "type": "densitymapbox",
         "z": [
          1,
          1
         ]
        },
        {
         "lat": [
          -4.21999979019165,
          -4.21999979019165
         ],
         "lon": [
          -38.70000076293945,
          -38.72999954223633
         ],
         "opacity": 0.6,
         "radius": 40,
         "showscale": false,
         "type": "densitymapbox",
         "z": [
          1,
          1
         ]
        },
        {
         "lat": [
          -29.829999923706055,
          -29.860000610351562
         ],
         "lon": [
          -51.13999938964844,
          -51.16999816894531
         ],
         "opacity": 0.6,
         "radius": 40,
         "showscale": false,
         "type": "densitymapbox",
         "z": [
          1,
          1
         ]
        },
        {
         "lat": [
          -7.369999885559082,
          -7.389999866485596
         ],
         "lon": [
          -37.47999954223633,
          -37.5
         ],
         "opacity": 0.6,
         "radius": 40,
         "showscale": false,
         "type": "densitymapbox",
         "z": [
          1,
          1
         ]
        },
        {
         "lat": [
          -6.420000076293945,
          -6.380000114440918,
          -6.449999809265137
         ],
         "lon": [
          -36.20000076293945,
          -36.209999084472656,
          -36.20000076293945
         ],
         "opacity": 0.6,
         "radius": 40,
         "showscale": false,
         "type": "densitymapbox",
         "z": [
          1,
          1,
          1
         ]
        },
        {
         "lat": [
          -19.489999771118164,
          -19.520000457763672
         ],
         "lon": [
          -41.97999954223633,
          -42.0099983215332
         ],
         "opacity": 0.6,
         "radius": 40,
         "showscale": false,
         "type": "densitymapbox",
         "z": [
          1,
          1
         ]
        },
        {
         "lat": [
          -4.53000020980835,
          -4.559999942779541
         ],
         "lon": [
          -44.619998931884766,
          -44.59000015258789
         ],
         "opacity": 0.6,
         "radius": 40,
         "showscale": false,
         "type": "densitymapbox",
         "z": [
          1,
          1
         ]
        },
        {
         "lat": [
          -6.559999942779541,
          -6.559999942779541
         ],
         "lon": [
          -47.45000076293945,
          -47.459999084472656
         ],
         "opacity": 0.6,
         "radius": 40,
         "showscale": false,
         "type": "densitymapbox",
         "z": [
          1,
          1
         ]
        },
        {
         "lat": [
          -26.229999542236328,
          -26.229999542236328
         ],
         "lon": [
          -51.08000183105469,
          -51.06999969482422
         ],
         "opacity": 0.6,
         "radius": 40,
         "showscale": false,
         "type": "densitymapbox",
         "z": [
          1,
          1
         ]
        },
        {
         "lat": [
          -8.020000457763672,
          -8
         ],
         "lon": [
          -34.97999954223633,
          -35.0099983215332
         ],
         "opacity": 0.6,
         "radius": 40,
         "showscale": false,
         "type": "densitymapbox",
         "z": [
          1,
          1
         ]
        },
        {
         "lat": [
          -21.450000762939453,
          -21.479999542236328
         ],
         "lon": [
          -56.11000061035156,
          -56.130001068115234
         ],
         "opacity": 0.6,
         "radius": 40,
         "showscale": false,
         "type": "densitymapbox",
         "z": [
          1,
          1
         ]
        },
        {
         "hoverinfo": "text",
         "lat": [
          -19.43000030517578,
          -19.420000076293945,
          -22.209999084472656,
          -22.190000534057617,
          -23.959999084472656,
          -24,
          -11.020000457763672,
          -11.010000228881836,
          -18.489999771118164,
          -18.510000228881836,
          -24.649999618530273,
          -24.649999618530273,
          -29.950000762939453,
          -29.989999771118164,
          -6.070000171661377,
          -6.090000152587891,
          -27.34000015258789,
          -27.34000015258789,
          -20.479999542236328,
          -20.469999313354492,
          -6.630000114440918,
          -6.610000133514404,
          -6.239999771118164,
          -6.25,
          -8.25,
          -8.279999732971191,
          -26.25,
          -26.25,
          -7.059999942779541,
          -7.099999904632568,
          -4.21999979019165,
          -4.260000228881836,
          -15.800000190734863,
          -15.800000190734863,
          -31.850000381469727,
          -31.860000610351562,
          -20.170000076293945,
          -20.1299991607666,
          -21.040000915527344,
          -21.010000228881836,
          -28.1200008392334,
          -28.1200008392334,
          -21.969999313354492,
          -21.950000762939453,
          -14.470000267028809,
          -14.479999542236328,
          -7.769999980926514,
          -7.730000019073486,
          -5.260000228881836,
          -5.28000020980835,
          -22.6299991607666,
          -22.610000610351562,
          -6.820000171661377,
          -6.809999942779541,
          -29.540000915527344,
          -29.549999237060547,
          -27.600000381469727,
          -27.559999465942383,
          -14.329999923706055,
          -14.300000190734863,
          -6.78000020980835,
          -6.739999771118164,
          -22.020000457763672,
          -21.979999542236328,
          -20.309999465942383,
          -20.329999923706055,
          -26.110000610351562,
          -26.100000381469727,
          -12.779999732971191,
          -12.789999961853027,
          -23.209999084472656,
          -23.200000762939453,
          -23.510000228881836,
          -23.520000457763672,
          -23.530000686645508,
          -23.540000915527344,
          -23.520000457763672,
          -20.040000915527344,
          -20.06999969482422,
          -7.110000133514404,
          -7.119999885559082,
          -7.909999847412109,
          -7.940000057220459,
          -27.90999984741211,
          -27.889999389648438,
          -29.420000076293945,
          -29.43000030517578,
          -20.649999618530273,
          -20.690000534057617,
          -6.269999980926514,
          -6.309999942779541,
          -21.1299991607666,
          -21.1200008392334,
          -10.899999618530273,
          -10.90999984741211,
          -4.980000019073486,
          -4.949999809265137,
          -27.06999969482422,
          -27.06999969482422,
          -19.959999084472656,
          -19.979999542236328,
          -1.350000023841858,
          -1.3600000143051147,
          -0.7099999785423279,
          -0.75,
          -9.109999656677246,
          -9.109999656677246,
          -23.65999984741211,
          -23.6200008392334,
          -23.690000534057617,
          -6.849999904632568,
          -6.889999866485596,
          -6.849999904632568,
          -8.729999542236328,
          -8.770000457763672,
          -6.039999961853027,
          -6.079999923706055,
          -6.179999828338623,
          -6.159999847412109,
          -9.619999885559082,
          -9.640000343322754,
          -12.619999885559082,
          -12.600000381469727,
          -12.609999656677246,
          -22.399999618530273,
          -22.420000076293945,
          -6.760000228881836,
          -6.75,
          -27.420000076293945,
          -27.40999984741211,
          -29.579999923706055,
          -29.610000610351562,
          -26.760000228881836,
          -26.760000228881836,
          -27.149999618530273,
          -27.1299991607666,
          -10.319999694824219,
          -10.289999961853027,
          -10.289999961853027,
          -18.1200008392334,
          -18.09000015258789,
          -6.119999885559082,
          -6.150000095367432,
          -26.889999389648438,
          -26.899999618530273,
          -10.329999923706055,
          -10.34000015258789,
          -6.679999828338623,
          -6.670000076293945,
          -6.679999828338623,
          -22.84000015258789,
          -22.84000015258789,
          -21.1299991607666,
          -21.110000610351562,
          -16.190000534057617,
          -16.190000534057617,
          -21.889999389648438,
          -21.899999618530273,
          -7.019999980926514,
          -7.019999980926514,
          -14.449999809265137,
          -14.449999809265137,
          -29.190000534057617,
          -29.209999084472656,
          -20.239999771118164,
          -20.239999771118164,
          -18.420000076293945,
          -18.43000030517578,
          -14.3100004196167,
          -14.3100004196167,
          -2.1700000762939453,
          -2.180000066757202,
          -25.639999389648438,
          -25.65999984741211,
          -8.390000343322754,
          -8.380000114440918,
          -19.270000457763672,
          -19.290000915527344,
          -27.3799991607666,
          -27.399999618530273,
          -2.859999895095825,
          -2.8299999237060547,
          -20.030000686645508,
          -20.049999237060547,
          -22.760000228881836,
          -22.799999237060547,
          -22.799999237060547,
          -10.119999885559082,
          -10.130000114440918,
          -6.53000020980835,
          -6.519999980926514,
          -26.920000076293945,
          -26.950000762939453,
          -23.540000915527344,
          -23.540000915527344,
          -23.479999542236328,
          -23.520000457763672,
          -2.9200000762939453,
          -2.9200000762939453,
          -29.309999465942383,
          -29.329999923706055,
          -29.969999313354492,
          -29.979999542236328,
          -28.81999969482422,
          -28.850000381469727,
          -10.680000305175781,
          -10.640000343322754,
          -17.34000015258789,
          -17.350000381469727,
          -7.139999866485596,
          -7.139999866485596,
          -7.21999979019165,
          -7.21999979019165,
          -23.31999969482422,
          -23.360000610351562,
          -23.280000686645508,
          -7.409999847412109,
          -7.400000095367432,
          -13.029999732971191,
          -13.069999694824219,
          -10.199999809265137,
          -10.210000038146973,
          -10.180000305175781,
          -29.799999237060547,
          -29.760000228881836,
          -22.5,
          -22.489999771118164,
          -24.739999771118164,
          -24.700000762939453,
          -9.390000343322754,
          -9.40999984741211,
          -20.229999542236328,
          -20.209999084472656,
          -5.090000152587891,
          -5.079999923706055,
          -27.020000457763672,
          -26.989999771118164,
          -23.739999771118164,
          -23.709999084472656,
          -8.960000038146973,
          -8.970000267028809,
          -8.960000038146973,
          -29.459999084472656,
          -29.510000228881836,
          -29.5,
          -23.010000228881836,
          -22.989999771118164,
          -15.300000190734863,
          -15.3100004196167,
          -15.890000343322754,
          -15.890000343322754,
          -29.59000015258789,
          -29.59000015258789,
          -27.170000076293945,
          -27.190000534057617,
          -10.399999618530273,
          -10.420000076293945,
          -31.200000762939453,
          -31.200000762939453,
          -21.68000030517578,
          -21.719999313354492,
          -18.81999969482422,
          -18.81999969482422,
          -29.610000610351562,
          -29.56999969482422,
          -7.329999923706055,
          -7.329999923706055,
          -12.420000076293945,
          -12.390000343322754,
          -9.5600004196167,
          -9.5600004196167,
          -19.559999465942383,
          -19.520000457763672,
          -27.420000076293945,
          -27.399999618530273,
          -19.700000762939453,
          -19.690000534057617,
          -26.719999313354492,
          -26.760000228881836,
          -6.75,
          -6.769999980926514,
          -17.309999465942383,
          -17.31999969482422,
          -25.219999313354492,
          -25.190000534057617,
          -6.320000171661377,
          -6.329999923706055,
          -22.93000030517578,
          -22.959999084472656,
          -13.390000343322754,
          -13.399999618530273,
          -27.450000762939453,
          -27.459999084472656,
          -21.729999542236328,
          -21.719999313354492,
          -9.5600004196167,
          -9.630000114440918,
          -9.600000381469727,
          -6.409999847412109,
          -6.400000095367432,
          -19.549999237060547,
          -19.540000915527344,
          -27.190000534057617,
          -27.15999984741211,
          -29.950000762939453,
          -29.940000534057617,
          -23.5,
          -23.540000915527344,
          -26.959999084472656,
          -26.93000030517578,
          -4.21999979019165,
          -4.21999979019165,
          -29.829999923706055,
          -29.860000610351562,
          -7.369999885559082,
          -7.389999866485596,
          -6.420000076293945,
          -6.380000114440918,
          -6.449999809265137,
          -19.489999771118164,
          -19.520000457763672,
          -4.53000020980835,
          -4.559999942779541,
          -6.559999942779541,
          -6.559999942779541,
          -26.229999542236328,
          -26.229999542236328,
          -8.020000457763672,
          -8,
          -21.450000762939453,
          -21.479999542236328
         ],
         "lon": [
          -42.209999084472656,
          -42.2400016784668,
          -44.970001220703125,
          -44.970001220703125,
          -46.38999938964844,
          -46.400001525878906,
          -68.73999786376953,
          -68.73999786376953,
          -49.470001220703125,
          -49.5,
          -49,
          -48.9900016784668,
          -51.09000015258789,
          -51.08000183105469,
          -35.22999954223633,
          -35.20000076293945,
          -51.61000061035156,
          -51.61000061035156,
          -55.79999923706055,
          -55.779998779296875,
          -35.290000915527344,
          -35.290000915527344,
          -42.849998474121094,
          -42.849998474121094,
          -49.2599983215332,
          -49.2400016784668,
          -53.63999938964844,
          -53.630001068115234,
          -35.310001373291016,
          -35.31999969482422,
          -38.91999816894531,
          -38.93000030517578,
          -43.29999923706055,
          -43.29999923706055,
          -52.810001373291016,
          -52.81999969482422,
          -48.68000030517578,
          -48.70000076293945,
          -40.81999969482422,
          -40.83000183105469,
          -54.880001068115234,
          -54.83000183105469,
          -44.93000030517578,
          -44.88999938964844,
          -46.47999954223633,
          -46.4900016784668,
          -35.849998474121094,
          -35.869998931884766,
          -36.720001220703125,
          -36.7599983215332,
          -46.02000045776367,
          -46.04999923706055,
          -41.31999969482422,
          -41.34000015258789,
          -51.54999923706055,
          -51.59000015258789,
          -53.15999984741211,
          -53.18000030517578,
          -43.77000045776367,
          -43.7599983215332,
          -35.4900016784668,
          -35.5099983215332,
          -42.36000061035156,
          -42.36000061035156,
          -40.33000183105469,
          -40.290000915527344,
          -49.79999923706055,
          -49.790000915527344,
          -46.5,
          -46.529998779296875,
          -46.81999969482422,
          -46.779998779296875,
          -46.869998931884766,
          -46.900001525878906,
          -46.790000915527344,
          -46.93000030517578,
          -46.83000183105469,
          -44.27000045776367,
          -44.29999923706055,
          -34.970001220703125,
          -34.93000030517578,
          -34.900001525878906,
          -34.869998931884766,
          -52.2599983215332,
          -52.220001220703125,
          -51.5099983215332,
          -51.5099983215332,
          -41.900001525878906,
          -41.91999816894531,
          -35.4900016784668,
          -35.470001220703125,
          -44.2599983215332,
          -44.220001220703125,
          -37.029998779296875,
          -37.06999969482422,
          -37.150001525878906,
          -37.130001068115234,
          -53,
          -52.97999954223633,
          -43.79999923706055,
          -43.84000015258789,
          -48.34000015258789,
          -48.369998931884766,
          -48.52000045776367,
          -48.5099983215332,
          -45.91999816894531,
          -45.93000030517578,
          -46.529998779296875,
          -46.54999923706055,
          -46.560001373291016,
          -35.52000045776367,
          -35.52000045776367,
          -35.4900016784668,
          -36.619998931884766,
          -36.619998931884766,
          -42.709999084472656,
          -42.72999954223633,
          -35.09000015258789,
          -35.119998931884766,
          -37.75,
          -37.779998779296875,
          -38.9900016784668,
          -38.970001220703125,
          -38.95000076293945,
          -44.25,
          -44.290000915527344,
          -43.02000045776367,
          -43.02000045776367,
          -49.779998779296875,
          -49.81999969482422,
          -50.900001525878906,
          -50.91999816894531,
          -48.66999816894531,
          -48.63999938964844,
          -48.54999923706055,
          -48.5099983215332,
          -36.56999969482422,
          -36.58000183105469,
          -36.599998474121094,
          -40.540000915527344,
          -40.5099983215332,
          -37.810001373291016,
          -37.84000015258789,
          -48.650001525878906,
          -48.65999984741211,
          -36.880001068115234,
          -36.91999816894531,
          -35.439998626708984,
          -35.369998931884766,
          -35.40999984741211,
          -45.22999954223633,
          -45.25,
          -41.68000030517578,
          -41.66999816894531,
          -52.540000915527344,
          -52.54999923706055,
          -44.5099983215332,
          -44.5099983215332,
          -35.86000061035156,
          -35.900001525878906,
          -56.79999923706055,
          -56.84000015258789,
          -49.95000076293945,
          -49.93000030517578,
          -50.63999938964844,
          -50.68000030517578,
          -49.209999084472656,
          -49.18000030517578,
          -39.31999969482422,
          -39.31999969482422,
          -56.7400016784668,
          -56.709999084472656,
          -52.099998474121094,
          -52.119998931884766,
          -48.11000061035156,
          -48.11000061035156,
          -44.400001525878906,
          -44.40999984741211,
          -52.45000076293945,
          -52.40999984741211,
          -44.029998779296875,
          -44.04999923706055,
          -44.13999938964844,
          -44.18000030517578,
          -43.38999938964844,
          -43.369998931884766,
          -43.40999984741211,
          -36.900001525878906,
          -36.93000030517578,
          -39.4900016784668,
          -39.52000045776367,
          -49.36000061035156,
          -49.369998931884766,
          -46.36000061035156,
          -46.310001373291016,
          -46.34000015258789,
          -46.34000015258789,
          -44.060001373291016,
          -44.04999923706055,
          -49.720001220703125,
          -49.720001220703125,
          -50.119998931884766,
          -50.130001068115234,
          -51.27000045776367,
          -51.279998779296875,
          -36.97999954223633,
          -36.97999954223633,
          -44.939998626708984,
          -44.959999084472656,
          -35.22999954223633,
          -35.25,
          -44.54999923706055,
          -44.54999923706055,
          -46.720001220703125,
          -46.7400016784668,
          -46.7400016784668,
          -35.11000061035156,
          -35.11000061035156,
          -39.0099983215332,
          -39,
          -36.880001068115234,
          -36.84000015258789,
          -36.84000015258789,
          -50.040000915527344,
          -50.029998779296875,
          -48.54999923706055,
          -48.54999923706055,
          -47.540000915527344,
          -47.54999923706055,
          -40.5,
          -40.5,
          -50.88999938964844,
          -50.91999816894531,
          -42.83000183105469,
          -42.79999923706055,
          -48.650001525878906,
          -48.630001068115234,
          -46.38999938964844,
          -46.40999984741211,
          -48.16999816894531,
          -48.18000030517578,
          -48.15999984741211,
          -51.959999084472656,
          -51.97999954223633,
          -51.959999084472656,
          -47.52000045776367,
          -47.5,
          -49.59000015258789,
          -49.58000183105469,
          -52.25,
          -52.25,
          -51.20000076293945,
          -51.15999984741211,
          -51.5,
          -51.4900016784668,
          -36.43000030517578,
          -36.459999084472656,
          -51.38999938964844,
          -51.38999938964844,
          -48.08000183105469,
          -48.099998474121094,
          -42.439998626708984,
          -42.470001220703125,
          -53.439998626708984,
          -53.439998626708984,
          -47.4900016784668,
          -47.459999084472656,
          -38.720001220703125,
          -38.75,
          -48.369998931884766,
          -48.38999938964844,
          -44.439998626708984,
          -44.45000076293945,
          -51.77000045776367,
          -51.77000045776367,
          -43.95000076293945,
          -43.91999816894531,
          -52.86000061035156,
          -52.849998474121094,
          -35.709999084472656,
          -35.689998626708984,
          -53.209999084472656,
          -53.20000076293945,
          -49.34000015258789,
          -49.310001373291016,
          -47.40999984741211,
          -47.38999938964844,
          -52.150001525878906,
          -52.15999984741211,
          -44.189998626708984,
          -44.189998626708984,
          -51.869998931884766,
          -51.900001525878906,
          -43.029998779296875,
          -43.04999923706055,
          -35.81999969482422,
          -35.79999923706055,
          -35.81999969482422,
          -48.529998779296875,
          -48.54999923706055,
          -44.08000183105469,
          -44.11000061035156,
          -53.709999084472656,
          -53.709999084472656,
          -51.720001220703125,
          -51.709999084472656,
          -47.45000076293945,
          -47.43000030517578,
          -53.630001068115234,
          -53.61000061035156,
          -38.70000076293945,
          -38.72999954223633,
          -51.13999938964844,
          -51.16999816894531,
          -37.47999954223633,
          -37.5,
          -36.20000076293945,
          -36.209999084472656,
          -36.20000076293945,
          -41.97999954223633,
          -42.0099983215332,
          -44.619998931884766,
          -44.59000015258789,
          -47.45000076293945,
          -47.459999084472656,
          -51.08000183105469,
          -51.06999969482422,
          -34.97999954223633,
          -35.0099983215332,
          -56.11000061035156,
          -56.130001068115234
         ],
         "marker": {
          "color": [
           8589934592,
           8589934592,
           25769803776,
           25769803776,
           25769803777,
           25769803777,
           25769803778,
           25769803778,
           34359738368,
           34359738368,
           34359738369,
           34359738369,
           34359738370,
           34359738370,
           42949672960,
           42949672960,
           42949672961,
           42949672961,
           60129542144,
           60129542144,
           60129542145,
           60129542145,
           60129542146,
           60129542146,
           60129542147,
           60129542147,
           77309411328,
           77309411328,
           103079215104,
           103079215104,
           103079215105,
           103079215105,
           120259084288,
           120259084288,
           120259084289,
           120259084289,
           120259084290,
           120259084290,
           120259084291,
           120259084291,
           128849018880,
           128849018880,
           137438953472,
           137438953472,
           137438953473,
           137438953473,
           146028888064,
           146028888064,
           154618822657,
           154618822657,
           163208757249,
           163208757249,
           171798691840,
           171798691840,
           171798691842,
           171798691842,
           171798691843,
           171798691843,
           171798691844,
           171798691844,
           180388626432,
           180388626432,
           180388626433,
           180388626433,
           180388626434,
           180388626434,
           188978561024,
           188978561024,
           188978561025,
           188978561025,
           197568495616,
           197568495616,
           206158430209,
           206158430209,
           206158430209,
           206158430209,
           206158430209,
           223338299392,
           223338299392,
           231928233984,
           231928233984,
           231928233985,
           231928233985,
           240518168576,
           240518168576,
           240518168577,
           240518168577,
           257698037760,
           257698037760,
           266287972353,
           266287972353,
           283467841536,
           283467841536,
           283467841537,
           283467841537,
           300647710720,
           300647710720,
           300647710721,
           300647710721,
           309237645312,
           309237645312,
           309237645313,
           309237645313,
           309237645314,
           309237645314,
           309237645315,
           309237645315,
           309237645316,
           309237645316,
           309237645316,
           317827579904,
           317827579904,
           317827579904,
           317827579905,
           317827579905,
           317827579906,
           317827579906,
           317827579907,
           317827579907,
           317827579908,
           317827579908,
           343597383680,
           343597383680,
           343597383680,
           352187318272,
           352187318272,
           360777252864,
           360777252864,
           360777252865,
           360777252865,
           369367187456,
           369367187456,
           369367187457,
           369367187457,
           377957122048,
           377957122048,
           377957122049,
           377957122049,
           377957122049,
           377957122050,
           377957122050,
           386547056640,
           386547056640,
           395136991232,
           395136991232,
           403726925824,
           403726925824,
           429496729600,
           429496729600,
           429496729600,
           429496729601,
           429496729601,
           429496729602,
           429496729602,
           438086664192,
           438086664192,
           446676598784,
           446676598784,
           455266533376,
           455266533376,
           481036337152,
           481036337152,
           506806140928,
           506806140928,
           506806140929,
           506806140929,
           506806140930,
           506806140930,
           523986010112,
           523986010112,
           532575944704,
           532575944704,
           532575944705,
           532575944705,
           549755813889,
           549755813889,
           558345748480,
           558345748480,
           558345748481,
           558345748481,
           566935683072,
           566935683072,
           575525617664,
           575525617664,
           575525617666,
           575525617666,
           575525617666,
           575525617667,
           575525617667,
           575525617668,
           575525617668,
           601295421441,
           601295421441,
           601295421442,
           601295421442,
           601295421442,
           601295421442,
           618475290624,
           618475290624,
           627065225217,
           627065225217,
           627065225218,
           627065225218,
           635655159809,
           635655159809,
           644245094400,
           644245094400,
           652835028992,
           652835028992,
           661424963584,
           661424963584,
           661424963585,
           661424963585,
           661424963586,
           661424963586,
           661424963586,
           670014898176,
           670014898176,
           704374636544,
           704374636544,
           704374636546,
           704374636546,
           704374636546,
           712964571137,
           712964571137,
           712964571138,
           712964571138,
           712964571139,
           712964571139,
           721554505729,
           721554505729,
           721554505730,
           721554505730,
           755914244097,
           755914244097,
           764504178688,
           764504178688,
           773094113280,
           773094113280,
           790273982464,
           790273982464,
           790273982464,
           798863917057,
           798863917057,
           798863917057,
           798863917059,
           798863917059,
           807453851648,
           807453851648,
           807453851650,
           807453851650,
           816043786241,
           816043786241,
           833223655424,
           833223655424,
           833223655425,
           833223655425,
           841813590016,
           841813590016,
           841813590017,
           841813590017,
           858993459200,
           858993459200,
           884763262977,
           884763262977,
           893353197568,
           893353197568,
           893353197570,
           893353197570,
           901943132161,
           901943132161,
           919123001344,
           919123001344,
           936302870528,
           936302870528,
           953482739712,
           953482739712,
           979252543490,
           979252543490,
           1022202216449,
           1022202216449,
           1030792151040,
           1030792151040,
           1039382085632,
           1039382085632,
           1047972020225,
           1047972020225,
           1056561954816,
           1056561954816,
           1073741824001,
           1073741824001,
           1108101562368,
           1108101562368,
           1142461300736,
           1142461300736,
           1151051235328,
           1151051235328,
           1151051235328,
           1151051235329,
           1151051235329,
           1159641169920,
           1159641169920,
           1194000908289,
           1194000908289,
           1202590842881,
           1202590842881,
           1236950581250,
           1236950581250,
           1271310319619,
           1271310319619,
           1271310319620,
           1271310319620,
           1279900254208,
           1279900254208,
           1288490188801,
           1288490188801,
           1305670057984,
           1305670057984,
           1305670057984,
           1314259992576,
           1314259992576,
           1391569403904,
           1391569403904,
           1451698946048,
           1451698946048,
           1451698946051,
           1451698946051,
           1503238553600,
           1503238553600,
           1554778161152,
           1554778161152
          ],
          "size": 9
         },
         "mode": "markers",
         "text": [
          "IAPU",
          "BUGRE",
          "SAO SEBASTIAO DO RIO VERDE",
          "POUSO ALTO",
          "SAO VICENTE",
          "PRAIA GRANDE",
          "EPITACIOLANDIA",
          "BRASILEIA",
          "CACHOEIRA DOURADA",
          "CACHOEIRA DOURADA",
          "RIBEIRA",
          "ADRIANOPOLIS",
          "CACHOEIRINHA",
          "ALVORADA",
          "SAO JOSE DE MIPIBU",
          "NISIA FLORESTA",
          "OURO",
          "CAPINZAL",
          "ANASTACIO",
          "AQUIDAUANA",
          "PEDRO REGIS",
          "JACARAU",
          "AMARANTE",
          "SAO FRANCISCO DO MARANHAO",
          "CONCEICAO DO ARAGUAIA",
          "COUTO DE MAGALHAES",
          "DIONISIO CERQUEIRA",
          "BARRACAO",
          "MARI",
          "CALDAS BRANDAO",
          "PACOTI",
          "GUARAMIRANGA",
          "NOVA PORTEIRINHA",
          "JANAUBA",
          "CERRITO",
          "PEDRO OSORIO",
          "COLOMBIA",
          "PLANURA",
          "MARATAIZES",
          "ITAPEMIRIM",
          "SAO PEDRO DO BUTIA",
          "SALVADOR DAS MISSOES",
          "CAXAMBU",
          "BAEPENDI",
          "SIMOLANDIA",
          "ALVORADA DO NORTE",
          "VERTENTE DO LERIO",
          "SANTA CECILIA DE UMBUZEIRO",
          "PENDENCIAS",
          "ALTO DO RODRIGUES",
          "CORREGO DO BOM JESUS",
          "CAMBUI",
          "SAO LUIS DO PIAUI",
          "SAO JOAO DA CANABRAVA",
          "MARATA",
          "BROCHIER",
          "CERRO GRANDE",
          "NOVO TIRADENTES",
          "MALHADA",
          "CARINHANHA",
          "PIRPIRITUBA",
          "BELEM",
          "CORDEIRO",
          "CANTAGALO",
          "VITORIA",
          "VILA VELHA",
          "MAFRA",
          "RIO NEGRO",
          "LAVANDEIRA",
          "COMBINADO",
          "VARZEA PAULISTA",
          "CAMPO LIMPO PAULISTA",
          "BARUERI",
          "JANDIRA",
          "OSASCO",
          "ITAPEVI",
          "CARAPICUIBA",
          "SAO JOAQUIM DE BICAS",
          "IGARAPE",
          "SANTA RITA",
          "BAYEUX",
          "ABREU E LIMA",
          "PAULISTA",
          "ESTACAO",
          "GETULIO VARGAS",
          "SAO PEDRO DA SERRA",
          "SALVADOR DO SUL",
          "ESPERA FELIZ",
          "CAIANA",
          "SERRINHA",
          "SANTO ANTONIO",
          "SAO JOAO DEL REI",
          "SANTA CRUZ DE MINAS",
          "BARRA DOS COQUEIROS",
          "ARACAJU",
          "GROSSOS",
          "AREIA BRANCA",
          "SAO CARLOS",
          "AGUAS DE CHAPECO",
          "RAPOSOS",
          "NOVA LIMA",
          "MARITUBA",
          "ANANINDEUA",
          "SOURE",
          "SALVATERRA",
          "SANTA FILOMENA",
          "ALTO PARNAIBA",
          "SANTO ANDRE",
          "SAO CAETANO DO SUL",
          "SAO BERNARDO DO CAMPO",
          "PILOEZINHOS",
          "CUITEGI",
          "GUARABIRA",
          "CAPOEIRAS",
          "CAETES",
          "SANTO ANTONIO DOS MILAGRES",
          "ANGICAL DO PIAUI",
          "TIBAU DO SUL",
          "SENADOR GEORGINO AVELINO",
          "PIRANHAS",
          "CANINDE DE SAO FRANCISCO",
          "MURITIBA",
          "SAO FELIX",
          "CACHOEIRA",
          "QUATIS",
          "PORTO REAL",
          "FLORIANO",
          "BARAO DE GRAJAU",
          "ATALANTA",
          "AGROLANDIA",
          "NOVA HARTZ",
          "ARARICA",
          "PICARRAS",
          "PENHA",
          "PORTO BELO",
          "BOMBINHAS",
          "NEOPOLIS",
          "PENEDO",
          "SANTANA DO SAO FRANCISCO",
          "PONTO BELO",
          "MUCURICI",
          "LUCRECIA",
          "FRUTUOSO GOMES",
          "NAVEGANTES",
          "ITAJAI",
          "SAO FRANCISCO",
          "MALHADA DOS BOIS",
          "SERRA DA RAIZ",
          "LAGOA DE DENTRO",
          "DUAS ESTRADAS",
          "APARECIDA",
          "POTIM",
          "BOM JESUS DO ITABAPOANA",
          "BOM JESUS DO NORTE",
          "BALIZA",
          "TORIXOREU",
          "SERRANOS",
          "SERITINGA",
          "ESPERANCA",
          "AREIAL",
          "NORTELANDIA",
          "ARENAPOLIS",
          "PRAIA GRANDE",
          "MAMPITUBA",
          "URANIA",
          "SANTA SALETE",
          "ITUMBIARA",
          "ARAPORA",
          "UBAITABA",
          "AURELINO LEAL",
          "FARO",
          "NHAMUNDA",
          "FOZ DO JORDAO",
          "CANDOI",
          "TUPIRATINS",
          "ITAPIRATINS",
          "PARAOPEBA",
          "CAETANOPOLIS",
          "ITATIBA DO SUL",
          "BARRA DO RIO AZUL",
          "MORROS",
          "AXIXA",
          "SARZEDO",
          "MARIO CAMPOS",
          "BELFORD ROXO",
          "SAO JOAO DE MERITI",
          "NILOPOLIS",
          "SAO BRAS",
          "AMPARO DE SAO FRANCISCO",
          "CARIUS",
          "JUCAS",
          "RODEIO",
          "ASCURRA",
          "FERRAZ DE VASCONCELOS",
          "SUZANO",
          "ITAQUAQUECETUBA",
          "POA",
          "PRESIDENTE JUSCELINO",
          "CACHOEIRA GRANDE",
          "PASSO DE TORRES",
          "TORRES",
          "IMBE",
          "TRAMANDAI",
          "IPE",
          "ANTONIO PRADO",
          "GENERAL MAYNARD",
          "CARMOPOLIS",
          "PIRAPORA",
          "BURITIZEIRO",
          "SOBRADO",
          "RIACHAO DO POCO",
          "URUCUI",
          "BENEDITO LEITE",
          "FRANCO DA ROCHA",
          "CAIEIRAS",
          "FRANCISCO MORATO",
          "ITAMBE",
          "PEDRAS DE FOGO",
          "NAZARE",
          "ARATUIPE",
          "TELHA",
          "PROPRIA",
          "PORTO REAL DO COLEGIO",
          "XANGRI-LA",
          "CAPAO DA CANOA",
          "IGARACU DO TIETE",
          "BARRA BONITA",
          "ILHA COMPRIDA",
          "IGUAPE",
          "PETROLINA",
          "JUAZEIRO",
          "TRES FRONTEIRAS",
          "SANTA FE DO SUL",
          "TIMON",
          "TERESINA",
          "CAMBORIU",
          "BALNEARIO CAMBORIU",
          "RIO GRANDE DA SERRA",
          "RIBEIRAO PIRES",
          "PEDRO AFONSO",
          "TUPIRAMA",
          "BOM JESUS DO TOCANTINS",
          "LAJEADO",
          "CRUZEIRO DO SUL",
          "ESTRELA",
          "RAFARD",
          "CAPIVARI",
          "CERES",
          "RIALMA",
          "BARRA DO GARCAS",
          "ARAGARCAS",
          "LINDOLFO COLLOR",
          "IVOTI",
          "JOACABA",
          "HERVAL D'OESTE",
          "PIACABUCU",
          "BREJO GRANDE",
          "LAGOA MIRIM",
          "LAGOA DOS PATOS",
          "SANTA LUCIA",
          "AMERICO BRASILIENSE",
          "SANTA EFIGENIA DE MINAS",
          "GONZAGA",
          "SAO JOAO DO POLESINE",
          "FAXINAL DO SOTURNO",
          "FILADELFIA",
          "CAROLINA",
          "CONCEICAO DO JACUIPE",
          "AMELIA RODRIGUES",
          "TOCANTINIA",
          "MIRACEMA DO TOCANTINS",
          "FORTUNA DE MINAS",
          "CACHOEIRA DA PRATA",
          "PIRATUBA",
          "IPIRA",
          "SAO JOSE DA LAPA",
          "VESPASIANO",
          "JARDINOPOLIS",
          "UNIAO DO OESTE",
          "CASSERENGUE",
          "SOLANEA",
          "ALTO ARAGUAIA",
          "SANTA RITA DO ARAGUAIA",
          "ITAPERUCU",
          "RIO BRANCO DO SUL",
          "TOCANTINOPOLIS",
          "PORTO FRANCO",
          "PARANACITY",
          "CRUZEIRO DO SUL",
          "SANTA MARIA DA VITORIA",
          "SAO FELIX DO CORIBE",
          "ALTO BELA VISTA",
          "MARCELINO RAMOS",
          "GUARARA",
          "BICAS",
          "SATUBA",
          "COQUEIRO SECO",
          "SANTA LUZIA DO NORTE",
          "XAMBIOA",
          "SAO GERALDO DO ARAGUAIA",
          "MATOZINHOS",
          "CAPIM BRANCO",
          "BARRA DO GUARITA",
          "ITAPIRANGA",
          "SAO JERONIMO",
          "TRIUNFO",
          "SOROCABA",
          "VOTORANTIM",
          "TUNAPOLIS",
          "SANTA HELENA",
          "ACARAPE",
          "REDENCAO",
          "SAPUCAIA DO SUL",
          "ESTEIO",
          "SANTA TEREZINHA",
          "IMACULADA",
          "JACANA",
          "CORONEL EZEQUIEL",
          "NOVA FLORESTA",
          "SAO SEBASTIAO DO ANTA",
          "SAO DOMINGOS DAS DORES",
          "TRIZIDELA DO VALE",
          "PEDREIRAS",
          "ESTREITO",
          "AGUIARNOPOLIS",
          "UNIAO DA VITORIA",
          "PORTO UNIAO",
          "CAMARAGIBE",
          "SAO LOURENCO DA MATA",
          "GUIA LOPES DA LAGUNA",
          "JARDIM"
         ],
         "type": "scattermapbox"
        }
       ],
       "layout": {
        "mapbox": {
         "center": {
          "lat": -17.213565826416016,
          "lon": -45.22697448730469
         },
         "style": "open-street-map",
         "zoom": 4
        },
        "margin": {
         "b": 0,
         "l": 0,
         "r": 0,
         "t": 0
        },
        "template": {
         "data": {
          "bar": [
           {
            "error_x": {
             "color": "#2a3f5f"
            },
            "error_y": {
             "color": "#2a3f5f"
            },
            "marker": {
             "line": {
              "color": "#E5ECF6",
              "width": 0.5
             },
             "pattern": {
              "fillmode": "overlay",
              "size": 10,
              "solidity": 0.2
             }
            },
            "type": "bar"
           }
          ],
          "barpolar": [
           {
            "marker": {
             "line": {
              "color": "#E5ECF6",
              "width": 0.5
             },
             "pattern": {
              "fillmode": "overlay",
              "size": 10,
              "solidity": 0.2
             }
            },
            "type": "barpolar"
           }
          ],
          "carpet": [
           {
            "aaxis": {
             "endlinecolor": "#2a3f5f",
             "gridcolor": "white",
             "linecolor": "white",
             "minorgridcolor": "white",
             "startlinecolor": "#2a3f5f"
            },
            "baxis": {
             "endlinecolor": "#2a3f5f",
             "gridcolor": "white",
             "linecolor": "white",
             "minorgridcolor": "white",
             "startlinecolor": "#2a3f5f"
            },
            "type": "carpet"
           }
          ],
          "choropleth": [
           {
            "colorbar": {
             "outlinewidth": 0,
             "ticks": ""
            },
            "type": "choropleth"
           }
          ],
          "contour": [
           {
            "colorbar": {
             "outlinewidth": 0,
             "ticks": ""
            },
            "colorscale": [
             [
              0,
              "#0d0887"
             ],
             [
              0.1111111111111111,
              "#46039f"
             ],
             [
              0.2222222222222222,
              "#7201a8"
             ],
             [
              0.3333333333333333,
              "#9c179e"
             ],
             [
              0.4444444444444444,
              "#bd3786"
             ],
             [
              0.5555555555555556,
              "#d8576b"
             ],
             [
              0.6666666666666666,
              "#ed7953"
             ],
             [
              0.7777777777777778,
              "#fb9f3a"
             ],
             [
              0.8888888888888888,
              "#fdca26"
             ],
             [
              1,
              "#f0f921"
             ]
            ],
            "type": "contour"
           }
          ],
          "contourcarpet": [
           {
            "colorbar": {
             "outlinewidth": 0,
             "ticks": ""
            },
            "type": "contourcarpet"
           }
          ],
          "heatmap": [
           {
            "colorbar": {
             "outlinewidth": 0,
             "ticks": ""
            },
            "colorscale": [
             [
              0,
              "#0d0887"
             ],
             [
              0.1111111111111111,
              "#46039f"
             ],
             [
              0.2222222222222222,
              "#7201a8"
             ],
             [
              0.3333333333333333,
              "#9c179e"
             ],
             [
              0.4444444444444444,
              "#bd3786"
             ],
             [
              0.5555555555555556,
              "#d8576b"
             ],
             [
              0.6666666666666666,
              "#ed7953"
             ],
             [
              0.7777777777777778,
              "#fb9f3a"
             ],
             [
              0.8888888888888888,
              "#fdca26"
             ],
             [
              1,
              "#f0f921"
             ]
            ],
            "type": "heatmap"
           }
          ],
          "heatmapgl": [
           {
            "colorbar": {
             "outlinewidth": 0,
             "ticks": ""
            },
            "colorscale": [
             [
              0,
              "#0d0887"
             ],
             [
              0.1111111111111111,
              "#46039f"
             ],
             [
              0.2222222222222222,
              "#7201a8"
             ],
             [
              0.3333333333333333,
              "#9c179e"
             ],
             [
              0.4444444444444444,
              "#bd3786"
             ],
             [
              0.5555555555555556,
              "#d8576b"
             ],
             [
              0.6666666666666666,
              "#ed7953"
             ],
             [
              0.7777777777777778,
              "#fb9f3a"
             ],
             [
              0.8888888888888888,
              "#fdca26"
             ],
             [
              1,
              "#f0f921"
             ]
            ],
            "type": "heatmapgl"
           }
          ],
          "histogram": [
           {
            "marker": {
             "pattern": {
              "fillmode": "overlay",
              "size": 10,
              "solidity": 0.2
             }
            },
            "type": "histogram"
           }
          ],
          "histogram2d": [
           {
            "colorbar": {
             "outlinewidth": 0,
             "ticks": ""
            },
            "colorscale": [
             [
              0,
              "#0d0887"
             ],
             [
              0.1111111111111111,
              "#46039f"
             ],
             [
              0.2222222222222222,
              "#7201a8"
             ],
             [
              0.3333333333333333,
              "#9c179e"
             ],
             [
              0.4444444444444444,
              "#bd3786"
             ],
             [
              0.5555555555555556,
              "#d8576b"
             ],
             [
              0.6666666666666666,
              "#ed7953"
             ],
             [
              0.7777777777777778,
              "#fb9f3a"
             ],
             [
              0.8888888888888888,
              "#fdca26"
             ],
             [
              1,
              "#f0f921"
             ]
            ],
            "type": "histogram2d"
           }
          ],
          "histogram2dcontour": [
           {
            "colorbar": {
             "outlinewidth": 0,
             "ticks": ""
            },
            "colorscale": [
             [
              0,
              "#0d0887"
             ],
             [
              0.1111111111111111,
              "#46039f"
             ],
             [
              0.2222222222222222,
              "#7201a8"
             ],
             [
              0.3333333333333333,
              "#9c179e"
             ],
             [
              0.4444444444444444,
              "#bd3786"
             ],
             [
              0.5555555555555556,
              "#d8576b"
             ],
             [
              0.6666666666666666,
              "#ed7953"
             ],
             [
              0.7777777777777778,
              "#fb9f3a"
             ],
             [
              0.8888888888888888,
              "#fdca26"
             ],
             [
              1,
              "#f0f921"
             ]
            ],
            "type": "histogram2dcontour"
           }
          ],
          "mesh3d": [
           {
            "colorbar": {
             "outlinewidth": 0,
             "ticks": ""
            },
            "type": "mesh3d"
           }
          ],
          "parcoords": [
           {
            "line": {
             "colorbar": {
              "outlinewidth": 0,
              "ticks": ""
             }
            },
            "type": "parcoords"
           }
          ],
          "pie": [
           {
            "automargin": true,
            "type": "pie"
           }
          ],
          "scatter": [
           {
            "fillpattern": {
             "fillmode": "overlay",
             "size": 10,
             "solidity": 0.2
            },
            "type": "scatter"
           }
          ],
          "scatter3d": [
           {
            "line": {
             "colorbar": {
              "outlinewidth": 0,
              "ticks": ""
             }
            },
            "marker": {
             "colorbar": {
              "outlinewidth": 0,
              "ticks": ""
             }
            },
            "type": "scatter3d"
           }
          ],
          "scattercarpet": [
           {
            "marker": {
             "colorbar": {
              "outlinewidth": 0,
              "ticks": ""
             }
            },
            "type": "scattercarpet"
           }
          ],
          "scattergeo": [
           {
            "marker": {
             "colorbar": {
              "outlinewidth": 0,
              "ticks": ""
             }
            },
            "type": "scattergeo"
           }
          ],
          "scattergl": [
           {
            "marker": {
             "colorbar": {
              "outlinewidth": 0,
              "ticks": ""
             }
            },
            "type": "scattergl"
           }
          ],
          "scattermapbox": [
           {
            "marker": {
             "colorbar": {
              "outlinewidth": 0,
              "ticks": ""
             }
            },
            "type": "scattermapbox"
           }
          ],
          "scatterpolar": [
           {
            "marker": {
             "colorbar": {
              "outlinewidth": 0,
              "ticks": ""
             }
            },
            "type": "scatterpolar"
           }
          ],
          "scatterpolargl": [
           {
            "marker": {
             "colorbar": {
              "outlinewidth": 0,
              "ticks": ""
             }
            },
            "type": "scatterpolargl"
           }
          ],
          "scatterternary": [
           {
            "marker": {
             "colorbar": {
              "outlinewidth": 0,
              "ticks": ""
             }
            },
            "type": "scatterternary"
           }
          ],
          "surface": [
           {
            "colorbar": {
             "outlinewidth": 0,
             "ticks": ""
            },
            "colorscale": [
             [
              0,
              "#0d0887"
             ],
             [
              0.1111111111111111,
              "#46039f"
             ],
             [
              0.2222222222222222,
              "#7201a8"
             ],
             [
              0.3333333333333333,
              "#9c179e"
             ],
             [
              0.4444444444444444,
              "#bd3786"
             ],
             [
              0.5555555555555556,
              "#d8576b"
             ],
             [
              0.6666666666666666,
              "#ed7953"
             ],
             [
              0.7777777777777778,
              "#fb9f3a"
             ],
             [
              0.8888888888888888,
              "#fdca26"
             ],
             [
              1,
              "#f0f921"
             ]
            ],
            "type": "surface"
           }
          ],
          "table": [
           {
            "cells": {
             "fill": {
              "color": "#EBF0F8"
             },
             "line": {
              "color": "white"
             }
            },
            "header": {
             "fill": {
              "color": "#C8D4E3"
             },
             "line": {
              "color": "white"
             }
            },
            "type": "table"
           }
          ]
         },
         "layout": {
          "annotationdefaults": {
           "arrowcolor": "#2a3f5f",
           "arrowhead": 0,
           "arrowwidth": 1
          },
          "autotypenumbers": "strict",
          "coloraxis": {
           "colorbar": {
            "outlinewidth": 0,
            "ticks": ""
           }
          },
          "colorscale": {
           "diverging": [
            [
             0,
             "#8e0152"
            ],
            [
             0.1,
             "#c51b7d"
            ],
            [
             0.2,
             "#de77ae"
            ],
            [
             0.3,
             "#f1b6da"
            ],
            [
             0.4,
             "#fde0ef"
            ],
            [
             0.5,
             "#f7f7f7"
            ],
            [
             0.6,
             "#e6f5d0"
            ],
            [
             0.7,
             "#b8e186"
            ],
            [
             0.8,
             "#7fbc41"
            ],
            [
             0.9,
             "#4d9221"
            ],
            [
             1,
             "#276419"
            ]
           ],
           "sequential": [
            [
             0,
             "#0d0887"
            ],
            [
             0.1111111111111111,
             "#46039f"
            ],
            [
             0.2222222222222222,
             "#7201a8"
            ],
            [
             0.3333333333333333,
             "#9c179e"
            ],
            [
             0.4444444444444444,
             "#bd3786"
            ],
            [
             0.5555555555555556,
             "#d8576b"
            ],
            [
             0.6666666666666666,
             "#ed7953"
            ],
            [
             0.7777777777777778,
             "#fb9f3a"
            ],
            [
             0.8888888888888888,
             "#fdca26"
            ],
            [
             1,
             "#f0f921"
            ]
           ],
           "sequentialminus": [
            [
             0,
             "#0d0887"
            ],
            [
             0.1111111111111111,
             "#46039f"
            ],
            [
             0.2222222222222222,
             "#7201a8"
            ],
            [
             0.3333333333333333,
             "#9c179e"
            ],
            [
             0.4444444444444444,
             "#bd3786"
            ],
            [
             0.5555555555555556,
             "#d8576b"
            ],
            [
             0.6666666666666666,
             "#ed7953"
            ],
            [
             0.7777777777777778,
             "#fb9f3a"
            ],
            [
             0.8888888888888888,
             "#fdca26"
            ],
            [
             1,
             "#f0f921"
            ]
           ]
          },
          "colorway": [
           "#636efa",
           "#EF553B",
           "#00cc96",
           "#ab63fa",
           "#FFA15A",
           "#19d3f3",
           "#FF6692",
           "#B6E880",
           "#FF97FF",
           "#FECB52"
          ],
          "font": {
           "color": "#2a3f5f"
          },
          "geo": {
           "bgcolor": "white",
           "lakecolor": "white",
           "landcolor": "#E5ECF6",
           "showlakes": true,
           "showland": true,
           "subunitcolor": "white"
          },
          "hoverlabel": {
           "align": "left"
          },
          "hovermode": "closest",
          "mapbox": {
           "style": "light"
          },
          "paper_bgcolor": "white",
          "plot_bgcolor": "#E5ECF6",
          "polar": {
           "angularaxis": {
            "gridcolor": "white",
            "linecolor": "white",
            "ticks": ""
           },
           "bgcolor": "#E5ECF6",
           "radialaxis": {
            "gridcolor": "white",
            "linecolor": "white",
            "ticks": ""
           }
          },
          "scene": {
           "xaxis": {
            "backgroundcolor": "#E5ECF6",
            "gridcolor": "white",
            "gridwidth": 2,
            "linecolor": "white",
            "showbackground": true,
            "ticks": "",
            "zerolinecolor": "white"
           },
           "yaxis": {
            "backgroundcolor": "#E5ECF6",
            "gridcolor": "white",
            "gridwidth": 2,
            "linecolor": "white",
            "showbackground": true,
            "ticks": "",
            "zerolinecolor": "white"
           },
           "zaxis": {
            "backgroundcolor": "#E5ECF6",
            "gridcolor": "white",
            "gridwidth": 2,
            "linecolor": "white",
            "showbackground": true,
            "ticks": "",
            "zerolinecolor": "white"
           }
          },
          "shapedefaults": {
           "line": {
            "color": "#2a3f5f"
           }
          },
          "ternary": {
           "aaxis": {
            "gridcolor": "white",
            "linecolor": "white",
            "ticks": ""
           },
           "baxis": {
            "gridcolor": "white",
            "linecolor": "white",
            "ticks": ""
           },
           "bgcolor": "#E5ECF6",
           "caxis": {
            "gridcolor": "white",
            "linecolor": "white",
            "ticks": ""
           }
          },
          "title": {
           "x": 0.05
          },
          "xaxis": {
           "automargin": true,
           "gridcolor": "white",
           "linecolor": "white",
           "ticks": "",
           "title": {
            "standoff": 15
           },
           "zerolinecolor": "white",
           "zerolinewidth": 2
          },
          "yaxis": {
           "automargin": true,
           "gridcolor": "white",
           "linecolor": "white",
           "ticks": "",
           "title": {
            "standoff": 15
           },
           "zerolinecolor": "white",
           "zerolinewidth": 2
          }
         }
        }
       }
      },
      "text/html": [
       "<div>                            <div id=\"dba07931-6c5f-436b-b3a1-d3737b58b576\" class=\"plotly-graph-div\" style=\"height:525px; width:100%;\"></div>            <script type=\"text/javascript\">                require([\"plotly\"], function(Plotly) {                    window.PLOTLYENV=window.PLOTLYENV || {};                                    if (document.getElementById(\"dba07931-6c5f-436b-b3a1-d3737b58b576\")) {                    Plotly.newPlot(                        \"dba07931-6c5f-436b-b3a1-d3737b58b576\",                        [{\"lat\":[-19.43000030517578,-19.420000076293945],\"lon\":[-42.209999084472656,-42.2400016784668],\"opacity\":0.6,\"radius\":40,\"showscale\":false,\"z\":[1,1],\"type\":\"densitymapbox\"},{\"lat\":[-22.209999084472656,-22.190000534057617],\"lon\":[-44.970001220703125,-44.970001220703125],\"opacity\":0.6,\"radius\":40,\"showscale\":false,\"z\":[1,1],\"type\":\"densitymapbox\"},{\"lat\":[-23.959999084472656,-24.0],\"lon\":[-46.38999938964844,-46.400001525878906],\"opacity\":0.6,\"radius\":40,\"showscale\":false,\"z\":[1,1],\"type\":\"densitymapbox\"},{\"lat\":[-11.020000457763672,-11.010000228881836],\"lon\":[-68.73999786376953,-68.73999786376953],\"opacity\":0.6,\"radius\":40,\"showscale\":false,\"z\":[1,1],\"type\":\"densitymapbox\"},{\"lat\":[-18.489999771118164,-18.510000228881836],\"lon\":[-49.470001220703125,-49.5],\"opacity\":0.6,\"radius\":40,\"showscale\":false,\"z\":[1,1],\"type\":\"densitymapbox\"},{\"lat\":[-24.649999618530273,-24.649999618530273],\"lon\":[-49.0,-48.9900016784668],\"opacity\":0.6,\"radius\":40,\"showscale\":false,\"z\":[1,1],\"type\":\"densitymapbox\"},{\"lat\":[-29.950000762939453,-29.989999771118164],\"lon\":[-51.09000015258789,-51.08000183105469],\"opacity\":0.6,\"radius\":40,\"showscale\":false,\"z\":[1,1],\"type\":\"densitymapbox\"},{\"lat\":[-6.070000171661377,-6.090000152587891],\"lon\":[-35.22999954223633,-35.20000076293945],\"opacity\":0.6,\"radius\":40,\"showscale\":false,\"z\":[1,1],\"type\":\"densitymapbox\"},{\"lat\":[-27.34000015258789,-27.34000015258789],\"lon\":[-51.61000061035156,-51.61000061035156],\"opacity\":0.6,\"radius\":40,\"showscale\":false,\"z\":[1,1],\"type\":\"densitymapbox\"},{\"lat\":[-20.479999542236328,-20.469999313354492],\"lon\":[-55.79999923706055,-55.779998779296875],\"opacity\":0.6,\"radius\":40,\"showscale\":false,\"z\":[1,1],\"type\":\"densitymapbox\"},{\"lat\":[-6.630000114440918,-6.610000133514404],\"lon\":[-35.290000915527344,-35.290000915527344],\"opacity\":0.6,\"radius\":40,\"showscale\":false,\"z\":[1,1],\"type\":\"densitymapbox\"},{\"lat\":[-6.239999771118164,-6.25],\"lon\":[-42.849998474121094,-42.849998474121094],\"opacity\":0.6,\"radius\":40,\"showscale\":false,\"z\":[1,1],\"type\":\"densitymapbox\"},{\"lat\":[-8.25,-8.279999732971191],\"lon\":[-49.2599983215332,-49.2400016784668],\"opacity\":0.6,\"radius\":40,\"showscale\":false,\"z\":[1,1],\"type\":\"densitymapbox\"},{\"lat\":[-26.25,-26.25],\"lon\":[-53.63999938964844,-53.630001068115234],\"opacity\":0.6,\"radius\":40,\"showscale\":false,\"z\":[1,1],\"type\":\"densitymapbox\"},{\"lat\":[-7.059999942779541,-7.099999904632568],\"lon\":[-35.310001373291016,-35.31999969482422],\"opacity\":0.6,\"radius\":40,\"showscale\":false,\"z\":[1,1],\"type\":\"densitymapbox\"},{\"lat\":[-4.21999979019165,-4.260000228881836],\"lon\":[-38.91999816894531,-38.93000030517578],\"opacity\":0.6,\"radius\":40,\"showscale\":false,\"z\":[1,1],\"type\":\"densitymapbox\"},{\"lat\":[-15.800000190734863,-15.800000190734863],\"lon\":[-43.29999923706055,-43.29999923706055],\"opacity\":0.6,\"radius\":40,\"showscale\":false,\"z\":[1,1],\"type\":\"densitymapbox\"},{\"lat\":[-31.850000381469727,-31.860000610351562],\"lon\":[-52.810001373291016,-52.81999969482422],\"opacity\":0.6,\"radius\":40,\"showscale\":false,\"z\":[1,1],\"type\":\"densitymapbox\"},{\"lat\":[-20.170000076293945,-20.1299991607666],\"lon\":[-48.68000030517578,-48.70000076293945],\"opacity\":0.6,\"radius\":40,\"showscale\":false,\"z\":[1,1],\"type\":\"densitymapbox\"},{\"lat\":[-21.040000915527344,-21.010000228881836],\"lon\":[-40.81999969482422,-40.83000183105469],\"opacity\":0.6,\"radius\":40,\"showscale\":false,\"z\":[1,1],\"type\":\"densitymapbox\"},{\"lat\":[-28.1200008392334,-28.1200008392334],\"lon\":[-54.880001068115234,-54.83000183105469],\"opacity\":0.6,\"radius\":40,\"showscale\":false,\"z\":[1,1],\"type\":\"densitymapbox\"},{\"lat\":[-21.969999313354492,-21.950000762939453],\"lon\":[-44.93000030517578,-44.88999938964844],\"opacity\":0.6,\"radius\":40,\"showscale\":false,\"z\":[1,1],\"type\":\"densitymapbox\"},{\"lat\":[-14.470000267028809,-14.479999542236328],\"lon\":[-46.47999954223633,-46.4900016784668],\"opacity\":0.6,\"radius\":40,\"showscale\":false,\"z\":[1,1],\"type\":\"densitymapbox\"},{\"lat\":[-7.769999980926514,-7.730000019073486],\"lon\":[-35.849998474121094,-35.869998931884766],\"opacity\":0.6,\"radius\":40,\"showscale\":false,\"z\":[1,1],\"type\":\"densitymapbox\"},{\"lat\":[-5.260000228881836,-5.28000020980835],\"lon\":[-36.720001220703125,-36.7599983215332],\"opacity\":0.6,\"radius\":40,\"showscale\":false,\"z\":[1,1],\"type\":\"densitymapbox\"},{\"lat\":[-22.6299991607666,-22.610000610351562],\"lon\":[-46.02000045776367,-46.04999923706055],\"opacity\":0.6,\"radius\":40,\"showscale\":false,\"z\":[1,1],\"type\":\"densitymapbox\"},{\"lat\":[-6.820000171661377,-6.809999942779541],\"lon\":[-41.31999969482422,-41.34000015258789],\"opacity\":0.6,\"radius\":40,\"showscale\":false,\"z\":[1,1],\"type\":\"densitymapbox\"},{\"lat\":[-29.540000915527344,-29.549999237060547],\"lon\":[-51.54999923706055,-51.59000015258789],\"opacity\":0.6,\"radius\":40,\"showscale\":false,\"z\":[1,1],\"type\":\"densitymapbox\"},{\"lat\":[-27.600000381469727,-27.559999465942383],\"lon\":[-53.15999984741211,-53.18000030517578],\"opacity\":0.6,\"radius\":40,\"showscale\":false,\"z\":[1,1],\"type\":\"densitymapbox\"},{\"lat\":[-14.329999923706055,-14.300000190734863],\"lon\":[-43.77000045776367,-43.7599983215332],\"opacity\":0.6,\"radius\":40,\"showscale\":false,\"z\":[1,1],\"type\":\"densitymapbox\"},{\"lat\":[-6.78000020980835,-6.739999771118164],\"lon\":[-35.4900016784668,-35.5099983215332],\"opacity\":0.6,\"radius\":40,\"showscale\":false,\"z\":[1,1],\"type\":\"densitymapbox\"},{\"lat\":[-22.020000457763672,-21.979999542236328],\"lon\":[-42.36000061035156,-42.36000061035156],\"opacity\":0.6,\"radius\":40,\"showscale\":false,\"z\":[1,1],\"type\":\"densitymapbox\"},{\"lat\":[-20.309999465942383,-20.329999923706055],\"lon\":[-40.33000183105469,-40.290000915527344],\"opacity\":0.6,\"radius\":40,\"showscale\":false,\"z\":[1,1],\"type\":\"densitymapbox\"},{\"lat\":[-26.110000610351562,-26.100000381469727],\"lon\":[-49.79999923706055,-49.790000915527344],\"opacity\":0.6,\"radius\":40,\"showscale\":false,\"z\":[1,1],\"type\":\"densitymapbox\"},{\"lat\":[-12.779999732971191,-12.789999961853027],\"lon\":[-46.5,-46.529998779296875],\"opacity\":0.6,\"radius\":40,\"showscale\":false,\"z\":[1,1],\"type\":\"densitymapbox\"},{\"lat\":[-23.209999084472656,-23.200000762939453],\"lon\":[-46.81999969482422,-46.779998779296875],\"opacity\":0.6,\"radius\":40,\"showscale\":false,\"z\":[1,1],\"type\":\"densitymapbox\"},{\"lat\":[-23.510000228881836,-23.520000457763672,-23.530000686645508,-23.540000915527344,-23.520000457763672],\"lon\":[-46.869998931884766,-46.900001525878906,-46.790000915527344,-46.93000030517578,-46.83000183105469],\"opacity\":0.6,\"radius\":40,\"showscale\":false,\"z\":[1,1,1,1,1],\"type\":\"densitymapbox\"},{\"lat\":[-20.040000915527344,-20.06999969482422],\"lon\":[-44.27000045776367,-44.29999923706055],\"opacity\":0.6,\"radius\":40,\"showscale\":false,\"z\":[1,1],\"type\":\"densitymapbox\"},{\"lat\":[-7.110000133514404,-7.119999885559082],\"lon\":[-34.970001220703125,-34.93000030517578],\"opacity\":0.6,\"radius\":40,\"showscale\":false,\"z\":[1,1],\"type\":\"densitymapbox\"},{\"lat\":[-7.909999847412109,-7.940000057220459],\"lon\":[-34.900001525878906,-34.869998931884766],\"opacity\":0.6,\"radius\":40,\"showscale\":false,\"z\":[1,1],\"type\":\"densitymapbox\"},{\"lat\":[-27.90999984741211,-27.889999389648438],\"lon\":[-52.2599983215332,-52.220001220703125],\"opacity\":0.6,\"radius\":40,\"showscale\":false,\"z\":[1,1],\"type\":\"densitymapbox\"},{\"lat\":[-29.420000076293945,-29.43000030517578],\"lon\":[-51.5099983215332,-51.5099983215332],\"opacity\":0.6,\"radius\":40,\"showscale\":false,\"z\":[1,1],\"type\":\"densitymapbox\"},{\"lat\":[-20.649999618530273,-20.690000534057617],\"lon\":[-41.900001525878906,-41.91999816894531],\"opacity\":0.6,\"radius\":40,\"showscale\":false,\"z\":[1,1],\"type\":\"densitymapbox\"},{\"lat\":[-6.269999980926514,-6.309999942779541],\"lon\":[-35.4900016784668,-35.470001220703125],\"opacity\":0.6,\"radius\":40,\"showscale\":false,\"z\":[1,1],\"type\":\"densitymapbox\"},{\"lat\":[-21.1299991607666,-21.1200008392334],\"lon\":[-44.2599983215332,-44.220001220703125],\"opacity\":0.6,\"radius\":40,\"showscale\":false,\"z\":[1,1],\"type\":\"densitymapbox\"},{\"lat\":[-10.899999618530273,-10.90999984741211],\"lon\":[-37.029998779296875,-37.06999969482422],\"opacity\":0.6,\"radius\":40,\"showscale\":false,\"z\":[1,1],\"type\":\"densitymapbox\"},{\"lat\":[-4.980000019073486,-4.949999809265137],\"lon\":[-37.150001525878906,-37.130001068115234],\"opacity\":0.6,\"radius\":40,\"showscale\":false,\"z\":[1,1],\"type\":\"densitymapbox\"},{\"lat\":[-27.06999969482422,-27.06999969482422],\"lon\":[-53.0,-52.97999954223633],\"opacity\":0.6,\"radius\":40,\"showscale\":false,\"z\":[1,1],\"type\":\"densitymapbox\"},{\"lat\":[-19.959999084472656,-19.979999542236328],\"lon\":[-43.79999923706055,-43.84000015258789],\"opacity\":0.6,\"radius\":40,\"showscale\":false,\"z\":[1,1],\"type\":\"densitymapbox\"},{\"lat\":[-1.350000023841858,-1.3600000143051147],\"lon\":[-48.34000015258789,-48.369998931884766],\"opacity\":0.6,\"radius\":40,\"showscale\":false,\"z\":[1,1],\"type\":\"densitymapbox\"},{\"lat\":[-0.7099999785423279,-0.75],\"lon\":[-48.52000045776367,-48.5099983215332],\"opacity\":0.6,\"radius\":40,\"showscale\":false,\"z\":[1,1],\"type\":\"densitymapbox\"},{\"lat\":[-9.109999656677246,-9.109999656677246],\"lon\":[-45.91999816894531,-45.93000030517578],\"opacity\":0.6,\"radius\":40,\"showscale\":false,\"z\":[1,1],\"type\":\"densitymapbox\"},{\"lat\":[-23.65999984741211,-23.6200008392334,-23.690000534057617],\"lon\":[-46.529998779296875,-46.54999923706055,-46.560001373291016],\"opacity\":0.6,\"radius\":40,\"showscale\":false,\"z\":[1,1,1],\"type\":\"densitymapbox\"},{\"lat\":[-6.849999904632568,-6.889999866485596,-6.849999904632568],\"lon\":[-35.52000045776367,-35.52000045776367,-35.4900016784668],\"opacity\":0.6,\"radius\":40,\"showscale\":false,\"z\":[1,1,1],\"type\":\"densitymapbox\"},{\"lat\":[-8.729999542236328,-8.770000457763672],\"lon\":[-36.619998931884766,-36.619998931884766],\"opacity\":0.6,\"radius\":40,\"showscale\":false,\"z\":[1,1],\"type\":\"densitymapbox\"},{\"lat\":[-6.039999961853027,-6.079999923706055],\"lon\":[-42.709999084472656,-42.72999954223633],\"opacity\":0.6,\"radius\":40,\"showscale\":false,\"z\":[1,1],\"type\":\"densitymapbox\"},{\"lat\":[-6.179999828338623,-6.159999847412109],\"lon\":[-35.09000015258789,-35.119998931884766],\"opacity\":0.6,\"radius\":40,\"showscale\":false,\"z\":[1,1],\"type\":\"densitymapbox\"},{\"lat\":[-9.619999885559082,-9.640000343322754],\"lon\":[-37.75,-37.779998779296875],\"opacity\":0.6,\"radius\":40,\"showscale\":false,\"z\":[1,1],\"type\":\"densitymapbox\"},{\"lat\":[-12.619999885559082,-12.600000381469727,-12.609999656677246],\"lon\":[-38.9900016784668,-38.970001220703125,-38.95000076293945],\"opacity\":0.6,\"radius\":40,\"showscale\":false,\"z\":[1,1,1],\"type\":\"densitymapbox\"},{\"lat\":[-22.399999618530273,-22.420000076293945],\"lon\":[-44.25,-44.290000915527344],\"opacity\":0.6,\"radius\":40,\"showscale\":false,\"z\":[1,1],\"type\":\"densitymapbox\"},{\"lat\":[-6.760000228881836,-6.75],\"lon\":[-43.02000045776367,-43.02000045776367],\"opacity\":0.6,\"radius\":40,\"showscale\":false,\"z\":[1,1],\"type\":\"densitymapbox\"},{\"lat\":[-27.420000076293945,-27.40999984741211],\"lon\":[-49.779998779296875,-49.81999969482422],\"opacity\":0.6,\"radius\":40,\"showscale\":false,\"z\":[1,1],\"type\":\"densitymapbox\"},{\"lat\":[-29.579999923706055,-29.610000610351562],\"lon\":[-50.900001525878906,-50.91999816894531],\"opacity\":0.6,\"radius\":40,\"showscale\":false,\"z\":[1,1],\"type\":\"densitymapbox\"},{\"lat\":[-26.760000228881836,-26.760000228881836],\"lon\":[-48.66999816894531,-48.63999938964844],\"opacity\":0.6,\"radius\":40,\"showscale\":false,\"z\":[1,1],\"type\":\"densitymapbox\"},{\"lat\":[-27.149999618530273,-27.1299991607666],\"lon\":[-48.54999923706055,-48.5099983215332],\"opacity\":0.6,\"radius\":40,\"showscale\":false,\"z\":[1,1],\"type\":\"densitymapbox\"},{\"lat\":[-10.319999694824219,-10.289999961853027,-10.289999961853027],\"lon\":[-36.56999969482422,-36.58000183105469,-36.599998474121094],\"opacity\":0.6,\"radius\":40,\"showscale\":false,\"z\":[1,1,1],\"type\":\"densitymapbox\"},{\"lat\":[-18.1200008392334,-18.09000015258789],\"lon\":[-40.540000915527344,-40.5099983215332],\"opacity\":0.6,\"radius\":40,\"showscale\":false,\"z\":[1,1],\"type\":\"densitymapbox\"},{\"lat\":[-6.119999885559082,-6.150000095367432],\"lon\":[-37.810001373291016,-37.84000015258789],\"opacity\":0.6,\"radius\":40,\"showscale\":false,\"z\":[1,1],\"type\":\"densitymapbox\"},{\"lat\":[-26.889999389648438,-26.899999618530273],\"lon\":[-48.650001525878906,-48.65999984741211],\"opacity\":0.6,\"radius\":40,\"showscale\":false,\"z\":[1,1],\"type\":\"densitymapbox\"},{\"lat\":[-10.329999923706055,-10.34000015258789],\"lon\":[-36.880001068115234,-36.91999816894531],\"opacity\":0.6,\"radius\":40,\"showscale\":false,\"z\":[1,1],\"type\":\"densitymapbox\"},{\"lat\":[-6.679999828338623,-6.670000076293945,-6.679999828338623],\"lon\":[-35.439998626708984,-35.369998931884766,-35.40999984741211],\"opacity\":0.6,\"radius\":40,\"showscale\":false,\"z\":[1,1,1],\"type\":\"densitymapbox\"},{\"lat\":[-22.84000015258789,-22.84000015258789],\"lon\":[-45.22999954223633,-45.25],\"opacity\":0.6,\"radius\":40,\"showscale\":false,\"z\":[1,1],\"type\":\"densitymapbox\"},{\"lat\":[-21.1299991607666,-21.110000610351562],\"lon\":[-41.68000030517578,-41.66999816894531],\"opacity\":0.6,\"radius\":40,\"showscale\":false,\"z\":[1,1],\"type\":\"densitymapbox\"},{\"lat\":[-16.190000534057617,-16.190000534057617],\"lon\":[-52.540000915527344,-52.54999923706055],\"opacity\":0.6,\"radius\":40,\"showscale\":false,\"z\":[1,1],\"type\":\"densitymapbox\"},{\"lat\":[-21.889999389648438,-21.899999618530273],\"lon\":[-44.5099983215332,-44.5099983215332],\"opacity\":0.6,\"radius\":40,\"showscale\":false,\"z\":[1,1],\"type\":\"densitymapbox\"},{\"lat\":[-7.019999980926514,-7.019999980926514],\"lon\":[-35.86000061035156,-35.900001525878906],\"opacity\":0.6,\"radius\":40,\"showscale\":false,\"z\":[1,1],\"type\":\"densitymapbox\"},{\"lat\":[-14.449999809265137,-14.449999809265137],\"lon\":[-56.79999923706055,-56.84000015258789],\"opacity\":0.6,\"radius\":40,\"showscale\":false,\"z\":[1,1],\"type\":\"densitymapbox\"},{\"lat\":[-29.190000534057617,-29.209999084472656],\"lon\":[-49.95000076293945,-49.93000030517578],\"opacity\":0.6,\"radius\":40,\"showscale\":false,\"z\":[1,1],\"type\":\"densitymapbox\"},{\"lat\":[-20.239999771118164,-20.239999771118164],\"lon\":[-50.63999938964844,-50.68000030517578],\"opacity\":0.6,\"radius\":40,\"showscale\":false,\"z\":[1,1],\"type\":\"densitymapbox\"},{\"lat\":[-18.420000076293945,-18.43000030517578],\"lon\":[-49.209999084472656,-49.18000030517578],\"opacity\":0.6,\"radius\":40,\"showscale\":false,\"z\":[1,1],\"type\":\"densitymapbox\"},{\"lat\":[-14.3100004196167,-14.3100004196167],\"lon\":[-39.31999969482422,-39.31999969482422],\"opacity\":0.6,\"radius\":40,\"showscale\":false,\"z\":[1,1],\"type\":\"densitymapbox\"},{\"lat\":[-2.1700000762939453,-2.180000066757202],\"lon\":[-56.7400016784668,-56.709999084472656],\"opacity\":0.6,\"radius\":40,\"showscale\":false,\"z\":[1,1],\"type\":\"densitymapbox\"},{\"lat\":[-25.639999389648438,-25.65999984741211],\"lon\":[-52.099998474121094,-52.119998931884766],\"opacity\":0.6,\"radius\":40,\"showscale\":false,\"z\":[1,1],\"type\":\"densitymapbox\"},{\"lat\":[-8.390000343322754,-8.380000114440918],\"lon\":[-48.11000061035156,-48.11000061035156],\"opacity\":0.6,\"radius\":40,\"showscale\":false,\"z\":[1,1],\"type\":\"densitymapbox\"},{\"lat\":[-19.270000457763672,-19.290000915527344],\"lon\":[-44.400001525878906,-44.40999984741211],\"opacity\":0.6,\"radius\":40,\"showscale\":false,\"z\":[1,1],\"type\":\"densitymapbox\"},{\"lat\":[-27.3799991607666,-27.399999618530273],\"lon\":[-52.45000076293945,-52.40999984741211],\"opacity\":0.6,\"radius\":40,\"showscale\":false,\"z\":[1,1],\"type\":\"densitymapbox\"},{\"lat\":[-2.859999895095825,-2.8299999237060547],\"lon\":[-44.029998779296875,-44.04999923706055],\"opacity\":0.6,\"radius\":40,\"showscale\":false,\"z\":[1,1],\"type\":\"densitymapbox\"},{\"lat\":[-20.030000686645508,-20.049999237060547],\"lon\":[-44.13999938964844,-44.18000030517578],\"opacity\":0.6,\"radius\":40,\"showscale\":false,\"z\":[1,1],\"type\":\"densitymapbox\"},{\"lat\":[-22.760000228881836,-22.799999237060547,-22.799999237060547],\"lon\":[-43.38999938964844,-43.369998931884766,-43.40999984741211],\"opacity\":0.6,\"radius\":40,\"showscale\":false,\"z\":[1,1,1],\"type\":\"densitymapbox\"},{\"lat\":[-10.119999885559082,-10.130000114440918],\"lon\":[-36.900001525878906,-36.93000030517578],\"opacity\":0.6,\"radius\":40,\"showscale\":false,\"z\":[1,1],\"type\":\"densitymapbox\"},{\"lat\":[-6.53000020980835,-6.519999980926514],\"lon\":[-39.4900016784668,-39.52000045776367],\"opacity\":0.6,\"radius\":40,\"showscale\":false,\"z\":[1,1],\"type\":\"densitymapbox\"},{\"lat\":[-26.920000076293945,-26.950000762939453],\"lon\":[-49.36000061035156,-49.369998931884766],\"opacity\":0.6,\"radius\":40,\"showscale\":false,\"z\":[1,1],\"type\":\"densitymapbox\"},{\"lat\":[-23.540000915527344,-23.540000915527344,-23.479999542236328,-23.520000457763672],\"lon\":[-46.36000061035156,-46.310001373291016,-46.34000015258789,-46.34000015258789],\"opacity\":0.6,\"radius\":40,\"showscale\":false,\"z\":[1,1,1,1],\"type\":\"densitymapbox\"},{\"lat\":[-2.9200000762939453,-2.9200000762939453],\"lon\":[-44.060001373291016,-44.04999923706055],\"opacity\":0.6,\"radius\":40,\"showscale\":false,\"z\":[1,1],\"type\":\"densitymapbox\"},{\"lat\":[-29.309999465942383,-29.329999923706055],\"lon\":[-49.720001220703125,-49.720001220703125],\"opacity\":0.6,\"radius\":40,\"showscale\":false,\"z\":[1,1],\"type\":\"densitymapbox\"},{\"lat\":[-29.969999313354492,-29.979999542236328],\"lon\":[-50.119998931884766,-50.130001068115234],\"opacity\":0.6,\"radius\":40,\"showscale\":false,\"z\":[1,1],\"type\":\"densitymapbox\"},{\"lat\":[-28.81999969482422,-28.850000381469727],\"lon\":[-51.27000045776367,-51.279998779296875],\"opacity\":0.6,\"radius\":40,\"showscale\":false,\"z\":[1,1],\"type\":\"densitymapbox\"},{\"lat\":[-10.680000305175781,-10.640000343322754],\"lon\":[-36.97999954223633,-36.97999954223633],\"opacity\":0.6,\"radius\":40,\"showscale\":false,\"z\":[1,1],\"type\":\"densitymapbox\"},{\"lat\":[-17.34000015258789,-17.350000381469727],\"lon\":[-44.939998626708984,-44.959999084472656],\"opacity\":0.6,\"radius\":40,\"showscale\":false,\"z\":[1,1],\"type\":\"densitymapbox\"},{\"lat\":[-7.139999866485596,-7.139999866485596],\"lon\":[-35.22999954223633,-35.25],\"opacity\":0.6,\"radius\":40,\"showscale\":false,\"z\":[1,1],\"type\":\"densitymapbox\"},{\"lat\":[-7.21999979019165,-7.21999979019165],\"lon\":[-44.54999923706055,-44.54999923706055],\"opacity\":0.6,\"radius\":40,\"showscale\":false,\"z\":[1,1],\"type\":\"densitymapbox\"},{\"lat\":[-23.31999969482422,-23.360000610351562,-23.280000686645508],\"lon\":[-46.720001220703125,-46.7400016784668,-46.7400016784668],\"opacity\":0.6,\"radius\":40,\"showscale\":false,\"z\":[1,1,1],\"type\":\"densitymapbox\"},{\"lat\":[-7.409999847412109,-7.400000095367432],\"lon\":[-35.11000061035156,-35.11000061035156],\"opacity\":0.6,\"radius\":40,\"showscale\":false,\"z\":[1,1],\"type\":\"densitymapbox\"},{\"lat\":[-13.029999732971191,-13.069999694824219],\"lon\":[-39.0099983215332,-39.0],\"opacity\":0.6,\"radius\":40,\"showscale\":false,\"z\":[1,1],\"type\":\"densitymapbox\"},{\"lat\":[-10.199999809265137,-10.210000038146973,-10.180000305175781],\"lon\":[-36.880001068115234,-36.84000015258789,-36.84000015258789],\"opacity\":0.6,\"radius\":40,\"showscale\":false,\"z\":[1,1,1],\"type\":\"densitymapbox\"},{\"lat\":[-29.799999237060547,-29.760000228881836],\"lon\":[-50.040000915527344,-50.029998779296875],\"opacity\":0.6,\"radius\":40,\"showscale\":false,\"z\":[1,1],\"type\":\"densitymapbox\"},{\"lat\":[-22.5,-22.489999771118164],\"lon\":[-48.54999923706055,-48.54999923706055],\"opacity\":0.6,\"radius\":40,\"showscale\":false,\"z\":[1,1],\"type\":\"densitymapbox\"},{\"lat\":[-24.739999771118164,-24.700000762939453],\"lon\":[-47.540000915527344,-47.54999923706055],\"opacity\":0.6,\"radius\":40,\"showscale\":false,\"z\":[1,1],\"type\":\"densitymapbox\"},{\"lat\":[-9.390000343322754,-9.40999984741211],\"lon\":[-40.5,-40.5],\"opacity\":0.6,\"radius\":40,\"showscale\":false,\"z\":[1,1],\"type\":\"densitymapbox\"},{\"lat\":[-20.229999542236328,-20.209999084472656],\"lon\":[-50.88999938964844,-50.91999816894531],\"opacity\":0.6,\"radius\":40,\"showscale\":false,\"z\":[1,1],\"type\":\"densitymapbox\"},{\"lat\":[-5.090000152587891,-5.079999923706055],\"lon\":[-42.83000183105469,-42.79999923706055],\"opacity\":0.6,\"radius\":40,\"showscale\":false,\"z\":[1,1],\"type\":\"densitymapbox\"},{\"lat\":[-27.020000457763672,-26.989999771118164],\"lon\":[-48.650001525878906,-48.630001068115234],\"opacity\":0.6,\"radius\":40,\"showscale\":false,\"z\":[1,1],\"type\":\"densitymapbox\"},{\"lat\":[-23.739999771118164,-23.709999084472656],\"lon\":[-46.38999938964844,-46.40999984741211],\"opacity\":0.6,\"radius\":40,\"showscale\":false,\"z\":[1,1],\"type\":\"densitymapbox\"},{\"lat\":[-8.960000038146973,-8.970000267028809,-8.960000038146973],\"lon\":[-48.16999816894531,-48.18000030517578,-48.15999984741211],\"opacity\":0.6,\"radius\":40,\"showscale\":false,\"z\":[1,1,1],\"type\":\"densitymapbox\"},{\"lat\":[-29.459999084472656,-29.510000228881836,-29.5],\"lon\":[-51.959999084472656,-51.97999954223633,-51.959999084472656],\"opacity\":0.6,\"radius\":40,\"showscale\":false,\"z\":[1,1,1],\"type\":\"densitymapbox\"},{\"lat\":[-23.010000228881836,-22.989999771118164],\"lon\":[-47.52000045776367,-47.5],\"opacity\":0.6,\"radius\":40,\"showscale\":false,\"z\":[1,1],\"type\":\"densitymapbox\"},{\"lat\":[-15.300000190734863,-15.3100004196167],\"lon\":[-49.59000015258789,-49.58000183105469],\"opacity\":0.6,\"radius\":40,\"showscale\":false,\"z\":[1,1],\"type\":\"densitymapbox\"},{\"lat\":[-15.890000343322754,-15.890000343322754],\"lon\":[-52.25,-52.25],\"opacity\":0.6,\"radius\":40,\"showscale\":false,\"z\":[1,1],\"type\":\"densitymapbox\"},{\"lat\":[-29.59000015258789,-29.59000015258789],\"lon\":[-51.20000076293945,-51.15999984741211],\"opacity\":0.6,\"radius\":40,\"showscale\":false,\"z\":[1,1],\"type\":\"densitymapbox\"},{\"lat\":[-27.170000076293945,-27.190000534057617],\"lon\":[-51.5,-51.4900016784668],\"opacity\":0.6,\"radius\":40,\"showscale\":false,\"z\":[1,1],\"type\":\"densitymapbox\"},{\"lat\":[-10.399999618530273,-10.420000076293945],\"lon\":[-36.43000030517578,-36.459999084472656],\"opacity\":0.6,\"radius\":40,\"showscale\":false,\"z\":[1,1],\"type\":\"densitymapbox\"},{\"lat\":[-31.200000762939453,-31.200000762939453],\"lon\":[-51.38999938964844,-51.38999938964844],\"opacity\":0.6,\"radius\":40,\"showscale\":false,\"z\":[1,1],\"type\":\"densitymapbox\"},{\"lat\":[-21.68000030517578,-21.719999313354492],\"lon\":[-48.08000183105469,-48.099998474121094],\"opacity\":0.6,\"radius\":40,\"showscale\":false,\"z\":[1,1],\"type\":\"densitymapbox\"},{\"lat\":[-18.81999969482422,-18.81999969482422],\"lon\":[-42.439998626708984,-42.470001220703125],\"opacity\":0.6,\"radius\":40,\"showscale\":false,\"z\":[1,1],\"type\":\"densitymapbox\"},{\"lat\":[-29.610000610351562,-29.56999969482422],\"lon\":[-53.439998626708984,-53.439998626708984],\"opacity\":0.6,\"radius\":40,\"showscale\":false,\"z\":[1,1],\"type\":\"densitymapbox\"},{\"lat\":[-7.329999923706055,-7.329999923706055],\"lon\":[-47.4900016784668,-47.459999084472656],\"opacity\":0.6,\"radius\":40,\"showscale\":false,\"z\":[1,1],\"type\":\"densitymapbox\"},{\"lat\":[-12.420000076293945,-12.390000343322754],\"lon\":[-38.720001220703125,-38.75],\"opacity\":0.6,\"radius\":40,\"showscale\":false,\"z\":[1,1],\"type\":\"densitymapbox\"},{\"lat\":[-9.5600004196167,-9.5600004196167],\"lon\":[-48.369998931884766,-48.38999938964844],\"opacity\":0.6,\"radius\":40,\"showscale\":false,\"z\":[1,1],\"type\":\"densitymapbox\"},{\"lat\":[-19.559999465942383,-19.520000457763672],\"lon\":[-44.439998626708984,-44.45000076293945],\"opacity\":0.6,\"radius\":40,\"showscale\":false,\"z\":[1,1],\"type\":\"densitymapbox\"},{\"lat\":[-27.420000076293945,-27.399999618530273],\"lon\":[-51.77000045776367,-51.77000045776367],\"opacity\":0.6,\"radius\":40,\"showscale\":false,\"z\":[1,1],\"type\":\"densitymapbox\"},{\"lat\":[-19.700000762939453,-19.690000534057617],\"lon\":[-43.95000076293945,-43.91999816894531],\"opacity\":0.6,\"radius\":40,\"showscale\":false,\"z\":[1,1],\"type\":\"densitymapbox\"},{\"lat\":[-26.719999313354492,-26.760000228881836],\"lon\":[-52.86000061035156,-52.849998474121094],\"opacity\":0.6,\"radius\":40,\"showscale\":false,\"z\":[1,1],\"type\":\"densitymapbox\"},{\"lat\":[-6.75,-6.769999980926514],\"lon\":[-35.709999084472656,-35.689998626708984],\"opacity\":0.6,\"radius\":40,\"showscale\":false,\"z\":[1,1],\"type\":\"densitymapbox\"},{\"lat\":[-17.309999465942383,-17.31999969482422],\"lon\":[-53.209999084472656,-53.20000076293945],\"opacity\":0.6,\"radius\":40,\"showscale\":false,\"z\":[1,1],\"type\":\"densitymapbox\"},{\"lat\":[-25.219999313354492,-25.190000534057617],\"lon\":[-49.34000015258789,-49.310001373291016],\"opacity\":0.6,\"radius\":40,\"showscale\":false,\"z\":[1,1],\"type\":\"densitymapbox\"},{\"lat\":[-6.320000171661377,-6.329999923706055],\"lon\":[-47.40999984741211,-47.38999938964844],\"opacity\":0.6,\"radius\":40,\"showscale\":false,\"z\":[1,1],\"type\":\"densitymapbox\"},{\"lat\":[-22.93000030517578,-22.959999084472656],\"lon\":[-52.150001525878906,-52.15999984741211],\"opacity\":0.6,\"radius\":40,\"showscale\":false,\"z\":[1,1],\"type\":\"densitymapbox\"},{\"lat\":[-13.390000343322754,-13.399999618530273],\"lon\":[-44.189998626708984,-44.189998626708984],\"opacity\":0.6,\"radius\":40,\"showscale\":false,\"z\":[1,1],\"type\":\"densitymapbox\"},{\"lat\":[-27.450000762939453,-27.459999084472656],\"lon\":[-51.869998931884766,-51.900001525878906],\"opacity\":0.6,\"radius\":40,\"showscale\":false,\"z\":[1,1],\"type\":\"densitymapbox\"},{\"lat\":[-21.729999542236328,-21.719999313354492],\"lon\":[-43.029998779296875,-43.04999923706055],\"opacity\":0.6,\"radius\":40,\"showscale\":false,\"z\":[1,1],\"type\":\"densitymapbox\"},{\"lat\":[-9.5600004196167,-9.630000114440918,-9.600000381469727],\"lon\":[-35.81999969482422,-35.79999923706055,-35.81999969482422],\"opacity\":0.6,\"radius\":40,\"showscale\":false,\"z\":[1,1,1],\"type\":\"densitymapbox\"},{\"lat\":[-6.409999847412109,-6.400000095367432],\"lon\":[-48.529998779296875,-48.54999923706055],\"opacity\":0.6,\"radius\":40,\"showscale\":false,\"z\":[1,1],\"type\":\"densitymapbox\"},{\"lat\":[-19.549999237060547,-19.540000915527344],\"lon\":[-44.08000183105469,-44.11000061035156],\"opacity\":0.6,\"radius\":40,\"showscale\":false,\"z\":[1,1],\"type\":\"densitymapbox\"},{\"lat\":[-27.190000534057617,-27.15999984741211],\"lon\":[-53.709999084472656,-53.709999084472656],\"opacity\":0.6,\"radius\":40,\"showscale\":false,\"z\":[1,1],\"type\":\"densitymapbox\"},{\"lat\":[-29.950000762939453,-29.940000534057617],\"lon\":[-51.720001220703125,-51.709999084472656],\"opacity\":0.6,\"radius\":40,\"showscale\":false,\"z\":[1,1],\"type\":\"densitymapbox\"},{\"lat\":[-23.5,-23.540000915527344],\"lon\":[-47.45000076293945,-47.43000030517578],\"opacity\":0.6,\"radius\":40,\"showscale\":false,\"z\":[1,1],\"type\":\"densitymapbox\"},{\"lat\":[-26.959999084472656,-26.93000030517578],\"lon\":[-53.630001068115234,-53.61000061035156],\"opacity\":0.6,\"radius\":40,\"showscale\":false,\"z\":[1,1],\"type\":\"densitymapbox\"},{\"lat\":[-4.21999979019165,-4.21999979019165],\"lon\":[-38.70000076293945,-38.72999954223633],\"opacity\":0.6,\"radius\":40,\"showscale\":false,\"z\":[1,1],\"type\":\"densitymapbox\"},{\"lat\":[-29.829999923706055,-29.860000610351562],\"lon\":[-51.13999938964844,-51.16999816894531],\"opacity\":0.6,\"radius\":40,\"showscale\":false,\"z\":[1,1],\"type\":\"densitymapbox\"},{\"lat\":[-7.369999885559082,-7.389999866485596],\"lon\":[-37.47999954223633,-37.5],\"opacity\":0.6,\"radius\":40,\"showscale\":false,\"z\":[1,1],\"type\":\"densitymapbox\"},{\"lat\":[-6.420000076293945,-6.380000114440918,-6.449999809265137],\"lon\":[-36.20000076293945,-36.209999084472656,-36.20000076293945],\"opacity\":0.6,\"radius\":40,\"showscale\":false,\"z\":[1,1,1],\"type\":\"densitymapbox\"},{\"lat\":[-19.489999771118164,-19.520000457763672],\"lon\":[-41.97999954223633,-42.0099983215332],\"opacity\":0.6,\"radius\":40,\"showscale\":false,\"z\":[1,1],\"type\":\"densitymapbox\"},{\"lat\":[-4.53000020980835,-4.559999942779541],\"lon\":[-44.619998931884766,-44.59000015258789],\"opacity\":0.6,\"radius\":40,\"showscale\":false,\"z\":[1,1],\"type\":\"densitymapbox\"},{\"lat\":[-6.559999942779541,-6.559999942779541],\"lon\":[-47.45000076293945,-47.459999084472656],\"opacity\":0.6,\"radius\":40,\"showscale\":false,\"z\":[1,1],\"type\":\"densitymapbox\"},{\"lat\":[-26.229999542236328,-26.229999542236328],\"lon\":[-51.08000183105469,-51.06999969482422],\"opacity\":0.6,\"radius\":40,\"showscale\":false,\"z\":[1,1],\"type\":\"densitymapbox\"},{\"lat\":[-8.020000457763672,-8.0],\"lon\":[-34.97999954223633,-35.0099983215332],\"opacity\":0.6,\"radius\":40,\"showscale\":false,\"z\":[1,1],\"type\":\"densitymapbox\"},{\"lat\":[-21.450000762939453,-21.479999542236328],\"lon\":[-56.11000061035156,-56.130001068115234],\"opacity\":0.6,\"radius\":40,\"showscale\":false,\"z\":[1,1],\"type\":\"densitymapbox\"},{\"hoverinfo\":\"text\",\"lat\":[-19.43000030517578,-19.420000076293945,-22.209999084472656,-22.190000534057617,-23.959999084472656,-24.0,-11.020000457763672,-11.010000228881836,-18.489999771118164,-18.510000228881836,-24.649999618530273,-24.649999618530273,-29.950000762939453,-29.989999771118164,-6.070000171661377,-6.090000152587891,-27.34000015258789,-27.34000015258789,-20.479999542236328,-20.469999313354492,-6.630000114440918,-6.610000133514404,-6.239999771118164,-6.25,-8.25,-8.279999732971191,-26.25,-26.25,-7.059999942779541,-7.099999904632568,-4.21999979019165,-4.260000228881836,-15.800000190734863,-15.800000190734863,-31.850000381469727,-31.860000610351562,-20.170000076293945,-20.1299991607666,-21.040000915527344,-21.010000228881836,-28.1200008392334,-28.1200008392334,-21.969999313354492,-21.950000762939453,-14.470000267028809,-14.479999542236328,-7.769999980926514,-7.730000019073486,-5.260000228881836,-5.28000020980835,-22.6299991607666,-22.610000610351562,-6.820000171661377,-6.809999942779541,-29.540000915527344,-29.549999237060547,-27.600000381469727,-27.559999465942383,-14.329999923706055,-14.300000190734863,-6.78000020980835,-6.739999771118164,-22.020000457763672,-21.979999542236328,-20.309999465942383,-20.329999923706055,-26.110000610351562,-26.100000381469727,-12.779999732971191,-12.789999961853027,-23.209999084472656,-23.200000762939453,-23.510000228881836,-23.520000457763672,-23.530000686645508,-23.540000915527344,-23.520000457763672,-20.040000915527344,-20.06999969482422,-7.110000133514404,-7.119999885559082,-7.909999847412109,-7.940000057220459,-27.90999984741211,-27.889999389648438,-29.420000076293945,-29.43000030517578,-20.649999618530273,-20.690000534057617,-6.269999980926514,-6.309999942779541,-21.1299991607666,-21.1200008392334,-10.899999618530273,-10.90999984741211,-4.980000019073486,-4.949999809265137,-27.06999969482422,-27.06999969482422,-19.959999084472656,-19.979999542236328,-1.350000023841858,-1.3600000143051147,-0.7099999785423279,-0.75,-9.109999656677246,-9.109999656677246,-23.65999984741211,-23.6200008392334,-23.690000534057617,-6.849999904632568,-6.889999866485596,-6.849999904632568,-8.729999542236328,-8.770000457763672,-6.039999961853027,-6.079999923706055,-6.179999828338623,-6.159999847412109,-9.619999885559082,-9.640000343322754,-12.619999885559082,-12.600000381469727,-12.609999656677246,-22.399999618530273,-22.420000076293945,-6.760000228881836,-6.75,-27.420000076293945,-27.40999984741211,-29.579999923706055,-29.610000610351562,-26.760000228881836,-26.760000228881836,-27.149999618530273,-27.1299991607666,-10.319999694824219,-10.289999961853027,-10.289999961853027,-18.1200008392334,-18.09000015258789,-6.119999885559082,-6.150000095367432,-26.889999389648438,-26.899999618530273,-10.329999923706055,-10.34000015258789,-6.679999828338623,-6.670000076293945,-6.679999828338623,-22.84000015258789,-22.84000015258789,-21.1299991607666,-21.110000610351562,-16.190000534057617,-16.190000534057617,-21.889999389648438,-21.899999618530273,-7.019999980926514,-7.019999980926514,-14.449999809265137,-14.449999809265137,-29.190000534057617,-29.209999084472656,-20.239999771118164,-20.239999771118164,-18.420000076293945,-18.43000030517578,-14.3100004196167,-14.3100004196167,-2.1700000762939453,-2.180000066757202,-25.639999389648438,-25.65999984741211,-8.390000343322754,-8.380000114440918,-19.270000457763672,-19.290000915527344,-27.3799991607666,-27.399999618530273,-2.859999895095825,-2.8299999237060547,-20.030000686645508,-20.049999237060547,-22.760000228881836,-22.799999237060547,-22.799999237060547,-10.119999885559082,-10.130000114440918,-6.53000020980835,-6.519999980926514,-26.920000076293945,-26.950000762939453,-23.540000915527344,-23.540000915527344,-23.479999542236328,-23.520000457763672,-2.9200000762939453,-2.9200000762939453,-29.309999465942383,-29.329999923706055,-29.969999313354492,-29.979999542236328,-28.81999969482422,-28.850000381469727,-10.680000305175781,-10.640000343322754,-17.34000015258789,-17.350000381469727,-7.139999866485596,-7.139999866485596,-7.21999979019165,-7.21999979019165,-23.31999969482422,-23.360000610351562,-23.280000686645508,-7.409999847412109,-7.400000095367432,-13.029999732971191,-13.069999694824219,-10.199999809265137,-10.210000038146973,-10.180000305175781,-29.799999237060547,-29.760000228881836,-22.5,-22.489999771118164,-24.739999771118164,-24.700000762939453,-9.390000343322754,-9.40999984741211,-20.229999542236328,-20.209999084472656,-5.090000152587891,-5.079999923706055,-27.020000457763672,-26.989999771118164,-23.739999771118164,-23.709999084472656,-8.960000038146973,-8.970000267028809,-8.960000038146973,-29.459999084472656,-29.510000228881836,-29.5,-23.010000228881836,-22.989999771118164,-15.300000190734863,-15.3100004196167,-15.890000343322754,-15.890000343322754,-29.59000015258789,-29.59000015258789,-27.170000076293945,-27.190000534057617,-10.399999618530273,-10.420000076293945,-31.200000762939453,-31.200000762939453,-21.68000030517578,-21.719999313354492,-18.81999969482422,-18.81999969482422,-29.610000610351562,-29.56999969482422,-7.329999923706055,-7.329999923706055,-12.420000076293945,-12.390000343322754,-9.5600004196167,-9.5600004196167,-19.559999465942383,-19.520000457763672,-27.420000076293945,-27.399999618530273,-19.700000762939453,-19.690000534057617,-26.719999313354492,-26.760000228881836,-6.75,-6.769999980926514,-17.309999465942383,-17.31999969482422,-25.219999313354492,-25.190000534057617,-6.320000171661377,-6.329999923706055,-22.93000030517578,-22.959999084472656,-13.390000343322754,-13.399999618530273,-27.450000762939453,-27.459999084472656,-21.729999542236328,-21.719999313354492,-9.5600004196167,-9.630000114440918,-9.600000381469727,-6.409999847412109,-6.400000095367432,-19.549999237060547,-19.540000915527344,-27.190000534057617,-27.15999984741211,-29.950000762939453,-29.940000534057617,-23.5,-23.540000915527344,-26.959999084472656,-26.93000030517578,-4.21999979019165,-4.21999979019165,-29.829999923706055,-29.860000610351562,-7.369999885559082,-7.389999866485596,-6.420000076293945,-6.380000114440918,-6.449999809265137,-19.489999771118164,-19.520000457763672,-4.53000020980835,-4.559999942779541,-6.559999942779541,-6.559999942779541,-26.229999542236328,-26.229999542236328,-8.020000457763672,-8.0,-21.450000762939453,-21.479999542236328],\"lon\":[-42.209999084472656,-42.2400016784668,-44.970001220703125,-44.970001220703125,-46.38999938964844,-46.400001525878906,-68.73999786376953,-68.73999786376953,-49.470001220703125,-49.5,-49.0,-48.9900016784668,-51.09000015258789,-51.08000183105469,-35.22999954223633,-35.20000076293945,-51.61000061035156,-51.61000061035156,-55.79999923706055,-55.779998779296875,-35.290000915527344,-35.290000915527344,-42.849998474121094,-42.849998474121094,-49.2599983215332,-49.2400016784668,-53.63999938964844,-53.630001068115234,-35.310001373291016,-35.31999969482422,-38.91999816894531,-38.93000030517578,-43.29999923706055,-43.29999923706055,-52.810001373291016,-52.81999969482422,-48.68000030517578,-48.70000076293945,-40.81999969482422,-40.83000183105469,-54.880001068115234,-54.83000183105469,-44.93000030517578,-44.88999938964844,-46.47999954223633,-46.4900016784668,-35.849998474121094,-35.869998931884766,-36.720001220703125,-36.7599983215332,-46.02000045776367,-46.04999923706055,-41.31999969482422,-41.34000015258789,-51.54999923706055,-51.59000015258789,-53.15999984741211,-53.18000030517578,-43.77000045776367,-43.7599983215332,-35.4900016784668,-35.5099983215332,-42.36000061035156,-42.36000061035156,-40.33000183105469,-40.290000915527344,-49.79999923706055,-49.790000915527344,-46.5,-46.529998779296875,-46.81999969482422,-46.779998779296875,-46.869998931884766,-46.900001525878906,-46.790000915527344,-46.93000030517578,-46.83000183105469,-44.27000045776367,-44.29999923706055,-34.970001220703125,-34.93000030517578,-34.900001525878906,-34.869998931884766,-52.2599983215332,-52.220001220703125,-51.5099983215332,-51.5099983215332,-41.900001525878906,-41.91999816894531,-35.4900016784668,-35.470001220703125,-44.2599983215332,-44.220001220703125,-37.029998779296875,-37.06999969482422,-37.150001525878906,-37.130001068115234,-53.0,-52.97999954223633,-43.79999923706055,-43.84000015258789,-48.34000015258789,-48.369998931884766,-48.52000045776367,-48.5099983215332,-45.91999816894531,-45.93000030517578,-46.529998779296875,-46.54999923706055,-46.560001373291016,-35.52000045776367,-35.52000045776367,-35.4900016784668,-36.619998931884766,-36.619998931884766,-42.709999084472656,-42.72999954223633,-35.09000015258789,-35.119998931884766,-37.75,-37.779998779296875,-38.9900016784668,-38.970001220703125,-38.95000076293945,-44.25,-44.290000915527344,-43.02000045776367,-43.02000045776367,-49.779998779296875,-49.81999969482422,-50.900001525878906,-50.91999816894531,-48.66999816894531,-48.63999938964844,-48.54999923706055,-48.5099983215332,-36.56999969482422,-36.58000183105469,-36.599998474121094,-40.540000915527344,-40.5099983215332,-37.810001373291016,-37.84000015258789,-48.650001525878906,-48.65999984741211,-36.880001068115234,-36.91999816894531,-35.439998626708984,-35.369998931884766,-35.40999984741211,-45.22999954223633,-45.25,-41.68000030517578,-41.66999816894531,-52.540000915527344,-52.54999923706055,-44.5099983215332,-44.5099983215332,-35.86000061035156,-35.900001525878906,-56.79999923706055,-56.84000015258789,-49.95000076293945,-49.93000030517578,-50.63999938964844,-50.68000030517578,-49.209999084472656,-49.18000030517578,-39.31999969482422,-39.31999969482422,-56.7400016784668,-56.709999084472656,-52.099998474121094,-52.119998931884766,-48.11000061035156,-48.11000061035156,-44.400001525878906,-44.40999984741211,-52.45000076293945,-52.40999984741211,-44.029998779296875,-44.04999923706055,-44.13999938964844,-44.18000030517578,-43.38999938964844,-43.369998931884766,-43.40999984741211,-36.900001525878906,-36.93000030517578,-39.4900016784668,-39.52000045776367,-49.36000061035156,-49.369998931884766,-46.36000061035156,-46.310001373291016,-46.34000015258789,-46.34000015258789,-44.060001373291016,-44.04999923706055,-49.720001220703125,-49.720001220703125,-50.119998931884766,-50.130001068115234,-51.27000045776367,-51.279998779296875,-36.97999954223633,-36.97999954223633,-44.939998626708984,-44.959999084472656,-35.22999954223633,-35.25,-44.54999923706055,-44.54999923706055,-46.720001220703125,-46.7400016784668,-46.7400016784668,-35.11000061035156,-35.11000061035156,-39.0099983215332,-39.0,-36.880001068115234,-36.84000015258789,-36.84000015258789,-50.040000915527344,-50.029998779296875,-48.54999923706055,-48.54999923706055,-47.540000915527344,-47.54999923706055,-40.5,-40.5,-50.88999938964844,-50.91999816894531,-42.83000183105469,-42.79999923706055,-48.650001525878906,-48.630001068115234,-46.38999938964844,-46.40999984741211,-48.16999816894531,-48.18000030517578,-48.15999984741211,-51.959999084472656,-51.97999954223633,-51.959999084472656,-47.52000045776367,-47.5,-49.59000015258789,-49.58000183105469,-52.25,-52.25,-51.20000076293945,-51.15999984741211,-51.5,-51.4900016784668,-36.43000030517578,-36.459999084472656,-51.38999938964844,-51.38999938964844,-48.08000183105469,-48.099998474121094,-42.439998626708984,-42.470001220703125,-53.439998626708984,-53.439998626708984,-47.4900016784668,-47.459999084472656,-38.720001220703125,-38.75,-48.369998931884766,-48.38999938964844,-44.439998626708984,-44.45000076293945,-51.77000045776367,-51.77000045776367,-43.95000076293945,-43.91999816894531,-52.86000061035156,-52.849998474121094,-35.709999084472656,-35.689998626708984,-53.209999084472656,-53.20000076293945,-49.34000015258789,-49.310001373291016,-47.40999984741211,-47.38999938964844,-52.150001525878906,-52.15999984741211,-44.189998626708984,-44.189998626708984,-51.869998931884766,-51.900001525878906,-43.029998779296875,-43.04999923706055,-35.81999969482422,-35.79999923706055,-35.81999969482422,-48.529998779296875,-48.54999923706055,-44.08000183105469,-44.11000061035156,-53.709999084472656,-53.709999084472656,-51.720001220703125,-51.709999084472656,-47.45000076293945,-47.43000030517578,-53.630001068115234,-53.61000061035156,-38.70000076293945,-38.72999954223633,-51.13999938964844,-51.16999816894531,-37.47999954223633,-37.5,-36.20000076293945,-36.209999084472656,-36.20000076293945,-41.97999954223633,-42.0099983215332,-44.619998931884766,-44.59000015258789,-47.45000076293945,-47.459999084472656,-51.08000183105469,-51.06999969482422,-34.97999954223633,-35.0099983215332,-56.11000061035156,-56.130001068115234],\"marker\":{\"color\":[8589934592,8589934592,25769803776,25769803776,25769803777,25769803777,25769803778,25769803778,34359738368,34359738368,34359738369,34359738369,34359738370,34359738370,42949672960,42949672960,42949672961,42949672961,60129542144,60129542144,60129542145,60129542145,60129542146,60129542146,60129542147,60129542147,77309411328,77309411328,103079215104,103079215104,103079215105,103079215105,120259084288,120259084288,120259084289,120259084289,120259084290,120259084290,120259084291,120259084291,128849018880,128849018880,137438953472,137438953472,137438953473,137438953473,146028888064,146028888064,154618822657,154618822657,163208757249,163208757249,171798691840,171798691840,171798691842,171798691842,171798691843,171798691843,171798691844,171798691844,180388626432,180388626432,180388626433,180388626433,180388626434,180388626434,188978561024,188978561024,188978561025,188978561025,197568495616,197568495616,206158430209,206158430209,206158430209,206158430209,206158430209,223338299392,223338299392,231928233984,231928233984,231928233985,231928233985,240518168576,240518168576,240518168577,240518168577,257698037760,257698037760,266287972353,266287972353,283467841536,283467841536,283467841537,283467841537,300647710720,300647710720,300647710721,300647710721,309237645312,309237645312,309237645313,309237645313,309237645314,309237645314,309237645315,309237645315,309237645316,309237645316,309237645316,317827579904,317827579904,317827579904,317827579905,317827579905,317827579906,317827579906,317827579907,317827579907,317827579908,317827579908,343597383680,343597383680,343597383680,352187318272,352187318272,360777252864,360777252864,360777252865,360777252865,369367187456,369367187456,369367187457,369367187457,377957122048,377957122048,377957122049,377957122049,377957122049,377957122050,377957122050,386547056640,386547056640,395136991232,395136991232,403726925824,403726925824,429496729600,429496729600,429496729600,429496729601,429496729601,429496729602,429496729602,438086664192,438086664192,446676598784,446676598784,455266533376,455266533376,481036337152,481036337152,506806140928,506806140928,506806140929,506806140929,506806140930,506806140930,523986010112,523986010112,532575944704,532575944704,532575944705,532575944705,549755813889,549755813889,558345748480,558345748480,558345748481,558345748481,566935683072,566935683072,575525617664,575525617664,575525617666,575525617666,575525617666,575525617667,575525617667,575525617668,575525617668,601295421441,601295421441,601295421442,601295421442,601295421442,601295421442,618475290624,618475290624,627065225217,627065225217,627065225218,627065225218,635655159809,635655159809,644245094400,644245094400,652835028992,652835028992,661424963584,661424963584,661424963585,661424963585,661424963586,661424963586,661424963586,670014898176,670014898176,704374636544,704374636544,704374636546,704374636546,704374636546,712964571137,712964571137,712964571138,712964571138,712964571139,712964571139,721554505729,721554505729,721554505730,721554505730,755914244097,755914244097,764504178688,764504178688,773094113280,773094113280,790273982464,790273982464,790273982464,798863917057,798863917057,798863917057,798863917059,798863917059,807453851648,807453851648,807453851650,807453851650,816043786241,816043786241,833223655424,833223655424,833223655425,833223655425,841813590016,841813590016,841813590017,841813590017,858993459200,858993459200,884763262977,884763262977,893353197568,893353197568,893353197570,893353197570,901943132161,901943132161,919123001344,919123001344,936302870528,936302870528,953482739712,953482739712,979252543490,979252543490,1022202216449,1022202216449,1030792151040,1030792151040,1039382085632,1039382085632,1047972020225,1047972020225,1056561954816,1056561954816,1073741824001,1073741824001,1108101562368,1108101562368,1142461300736,1142461300736,1151051235328,1151051235328,1151051235328,1151051235329,1151051235329,1159641169920,1159641169920,1194000908289,1194000908289,1202590842881,1202590842881,1236950581250,1236950581250,1271310319619,1271310319619,1271310319620,1271310319620,1279900254208,1279900254208,1288490188801,1288490188801,1305670057984,1305670057984,1305670057984,1314259992576,1314259992576,1391569403904,1391569403904,1451698946048,1451698946048,1451698946051,1451698946051,1503238553600,1503238553600,1554778161152,1554778161152],\"size\":9},\"mode\":\"markers\",\"text\":[\"IAPU\",\"BUGRE\",\"SAO SEBASTIAO DO RIO VERDE\",\"POUSO ALTO\",\"SAO VICENTE\",\"PRAIA GRANDE\",\"EPITACIOLANDIA\",\"BRASILEIA\",\"CACHOEIRA DOURADA\",\"CACHOEIRA DOURADA\",\"RIBEIRA\",\"ADRIANOPOLIS\",\"CACHOEIRINHA\",\"ALVORADA\",\"SAO JOSE DE MIPIBU\",\"NISIA FLORESTA\",\"OURO\",\"CAPINZAL\",\"ANASTACIO\",\"AQUIDAUANA\",\"PEDRO REGIS\",\"JACARAU\",\"AMARANTE\",\"SAO FRANCISCO DO MARANHAO\",\"CONCEICAO DO ARAGUAIA\",\"COUTO DE MAGALHAES\",\"DIONISIO CERQUEIRA\",\"BARRACAO\",\"MARI\",\"CALDAS BRANDAO\",\"PACOTI\",\"GUARAMIRANGA\",\"NOVA PORTEIRINHA\",\"JANAUBA\",\"CERRITO\",\"PEDRO OSORIO\",\"COLOMBIA\",\"PLANURA\",\"MARATAIZES\",\"ITAPEMIRIM\",\"SAO PEDRO DO BUTIA\",\"SALVADOR DAS MISSOES\",\"CAXAMBU\",\"BAEPENDI\",\"SIMOLANDIA\",\"ALVORADA DO NORTE\",\"VERTENTE DO LERIO\",\"SANTA CECILIA DE UMBUZEIRO\",\"PENDENCIAS\",\"ALTO DO RODRIGUES\",\"CORREGO DO BOM JESUS\",\"CAMBUI\",\"SAO LUIS DO PIAUI\",\"SAO JOAO DA CANABRAVA\",\"MARATA\",\"BROCHIER\",\"CERRO GRANDE\",\"NOVO TIRADENTES\",\"MALHADA\",\"CARINHANHA\",\"PIRPIRITUBA\",\"BELEM\",\"CORDEIRO\",\"CANTAGALO\",\"VITORIA\",\"VILA VELHA\",\"MAFRA\",\"RIO NEGRO\",\"LAVANDEIRA\",\"COMBINADO\",\"VARZEA PAULISTA\",\"CAMPO LIMPO PAULISTA\",\"BARUERI\",\"JANDIRA\",\"OSASCO\",\"ITAPEVI\",\"CARAPICUIBA\",\"SAO JOAQUIM DE BICAS\",\"IGARAPE\",\"SANTA RITA\",\"BAYEUX\",\"ABREU E LIMA\",\"PAULISTA\",\"ESTACAO\",\"GETULIO VARGAS\",\"SAO PEDRO DA SERRA\",\"SALVADOR DO SUL\",\"ESPERA FELIZ\",\"CAIANA\",\"SERRINHA\",\"SANTO ANTONIO\",\"SAO JOAO DEL REI\",\"SANTA CRUZ DE MINAS\",\"BARRA DOS COQUEIROS\",\"ARACAJU\",\"GROSSOS\",\"AREIA BRANCA\",\"SAO CARLOS\",\"AGUAS DE CHAPECO\",\"RAPOSOS\",\"NOVA LIMA\",\"MARITUBA\",\"ANANINDEUA\",\"SOURE\",\"SALVATERRA\",\"SANTA FILOMENA\",\"ALTO PARNAIBA\",\"SANTO ANDRE\",\"SAO CAETANO DO SUL\",\"SAO BERNARDO DO CAMPO\",\"PILOEZINHOS\",\"CUITEGI\",\"GUARABIRA\",\"CAPOEIRAS\",\"CAETES\",\"SANTO ANTONIO DOS MILAGRES\",\"ANGICAL DO PIAUI\",\"TIBAU DO SUL\",\"SENADOR GEORGINO AVELINO\",\"PIRANHAS\",\"CANINDE DE SAO FRANCISCO\",\"MURITIBA\",\"SAO FELIX\",\"CACHOEIRA\",\"QUATIS\",\"PORTO REAL\",\"FLORIANO\",\"BARAO DE GRAJAU\",\"ATALANTA\",\"AGROLANDIA\",\"NOVA HARTZ\",\"ARARICA\",\"PICARRAS\",\"PENHA\",\"PORTO BELO\",\"BOMBINHAS\",\"NEOPOLIS\",\"PENEDO\",\"SANTANA DO SAO FRANCISCO\",\"PONTO BELO\",\"MUCURICI\",\"LUCRECIA\",\"FRUTUOSO GOMES\",\"NAVEGANTES\",\"ITAJAI\",\"SAO FRANCISCO\",\"MALHADA DOS BOIS\",\"SERRA DA RAIZ\",\"LAGOA DE DENTRO\",\"DUAS ESTRADAS\",\"APARECIDA\",\"POTIM\",\"BOM JESUS DO ITABAPOANA\",\"BOM JESUS DO NORTE\",\"BALIZA\",\"TORIXOREU\",\"SERRANOS\",\"SERITINGA\",\"ESPERANCA\",\"AREIAL\",\"NORTELANDIA\",\"ARENAPOLIS\",\"PRAIA GRANDE\",\"MAMPITUBA\",\"URANIA\",\"SANTA SALETE\",\"ITUMBIARA\",\"ARAPORA\",\"UBAITABA\",\"AURELINO LEAL\",\"FARO\",\"NHAMUNDA\",\"FOZ DO JORDAO\",\"CANDOI\",\"TUPIRATINS\",\"ITAPIRATINS\",\"PARAOPEBA\",\"CAETANOPOLIS\",\"ITATIBA DO SUL\",\"BARRA DO RIO AZUL\",\"MORROS\",\"AXIXA\",\"SARZEDO\",\"MARIO CAMPOS\",\"BELFORD ROXO\",\"SAO JOAO DE MERITI\",\"NILOPOLIS\",\"SAO BRAS\",\"AMPARO DE SAO FRANCISCO\",\"CARIUS\",\"JUCAS\",\"RODEIO\",\"ASCURRA\",\"FERRAZ DE VASCONCELOS\",\"SUZANO\",\"ITAQUAQUECETUBA\",\"POA\",\"PRESIDENTE JUSCELINO\",\"CACHOEIRA GRANDE\",\"PASSO DE TORRES\",\"TORRES\",\"IMBE\",\"TRAMANDAI\",\"IPE\",\"ANTONIO PRADO\",\"GENERAL MAYNARD\",\"CARMOPOLIS\",\"PIRAPORA\",\"BURITIZEIRO\",\"SOBRADO\",\"RIACHAO DO POCO\",\"URUCUI\",\"BENEDITO LEITE\",\"FRANCO DA ROCHA\",\"CAIEIRAS\",\"FRANCISCO MORATO\",\"ITAMBE\",\"PEDRAS DE FOGO\",\"NAZARE\",\"ARATUIPE\",\"TELHA\",\"PROPRIA\",\"PORTO REAL DO COLEGIO\",\"XANGRI-LA\",\"CAPAO DA CANOA\",\"IGARACU DO TIETE\",\"BARRA BONITA\",\"ILHA COMPRIDA\",\"IGUAPE\",\"PETROLINA\",\"JUAZEIRO\",\"TRES FRONTEIRAS\",\"SANTA FE DO SUL\",\"TIMON\",\"TERESINA\",\"CAMBORIU\",\"BALNEARIO CAMBORIU\",\"RIO GRANDE DA SERRA\",\"RIBEIRAO PIRES\",\"PEDRO AFONSO\",\"TUPIRAMA\",\"BOM JESUS DO TOCANTINS\",\"LAJEADO\",\"CRUZEIRO DO SUL\",\"ESTRELA\",\"RAFARD\",\"CAPIVARI\",\"CERES\",\"RIALMA\",\"BARRA DO GARCAS\",\"ARAGARCAS\",\"LINDOLFO COLLOR\",\"IVOTI\",\"JOACABA\",\"HERVAL D'OESTE\",\"PIACABUCU\",\"BREJO GRANDE\",\"LAGOA MIRIM\",\"LAGOA DOS PATOS\",\"SANTA LUCIA\",\"AMERICO BRASILIENSE\",\"SANTA EFIGENIA DE MINAS\",\"GONZAGA\",\"SAO JOAO DO POLESINE\",\"FAXINAL DO SOTURNO\",\"FILADELFIA\",\"CAROLINA\",\"CONCEICAO DO JACUIPE\",\"AMELIA RODRIGUES\",\"TOCANTINIA\",\"MIRACEMA DO TOCANTINS\",\"FORTUNA DE MINAS\",\"CACHOEIRA DA PRATA\",\"PIRATUBA\",\"IPIRA\",\"SAO JOSE DA LAPA\",\"VESPASIANO\",\"JARDINOPOLIS\",\"UNIAO DO OESTE\",\"CASSERENGUE\",\"SOLANEA\",\"ALTO ARAGUAIA\",\"SANTA RITA DO ARAGUAIA\",\"ITAPERUCU\",\"RIO BRANCO DO SUL\",\"TOCANTINOPOLIS\",\"PORTO FRANCO\",\"PARANACITY\",\"CRUZEIRO DO SUL\",\"SANTA MARIA DA VITORIA\",\"SAO FELIX DO CORIBE\",\"ALTO BELA VISTA\",\"MARCELINO RAMOS\",\"GUARARA\",\"BICAS\",\"SATUBA\",\"COQUEIRO SECO\",\"SANTA LUZIA DO NORTE\",\"XAMBIOA\",\"SAO GERALDO DO ARAGUAIA\",\"MATOZINHOS\",\"CAPIM BRANCO\",\"BARRA DO GUARITA\",\"ITAPIRANGA\",\"SAO JERONIMO\",\"TRIUNFO\",\"SOROCABA\",\"VOTORANTIM\",\"TUNAPOLIS\",\"SANTA HELENA\",\"ACARAPE\",\"REDENCAO\",\"SAPUCAIA DO SUL\",\"ESTEIO\",\"SANTA TEREZINHA\",\"IMACULADA\",\"JACANA\",\"CORONEL EZEQUIEL\",\"NOVA FLORESTA\",\"SAO SEBASTIAO DO ANTA\",\"SAO DOMINGOS DAS DORES\",\"TRIZIDELA DO VALE\",\"PEDREIRAS\",\"ESTREITO\",\"AGUIARNOPOLIS\",\"UNIAO DA VITORIA\",\"PORTO UNIAO\",\"CAMARAGIBE\",\"SAO LOURENCO DA MATA\",\"GUIA LOPES DA LAGUNA\",\"JARDIM\"],\"type\":\"scattermapbox\"}],                        {\"template\":{\"data\":{\"histogram2dcontour\":[{\"type\":\"histogram2dcontour\",\"colorbar\":{\"outlinewidth\":0,\"ticks\":\"\"},\"colorscale\":[[0.0,\"#0d0887\"],[0.1111111111111111,\"#46039f\"],[0.2222222222222222,\"#7201a8\"],[0.3333333333333333,\"#9c179e\"],[0.4444444444444444,\"#bd3786\"],[0.5555555555555556,\"#d8576b\"],[0.6666666666666666,\"#ed7953\"],[0.7777777777777778,\"#fb9f3a\"],[0.8888888888888888,\"#fdca26\"],[1.0,\"#f0f921\"]]}],\"choropleth\":[{\"type\":\"choropleth\",\"colorbar\":{\"outlinewidth\":0,\"ticks\":\"\"}}],\"histogram2d\":[{\"type\":\"histogram2d\",\"colorbar\":{\"outlinewidth\":0,\"ticks\":\"\"},\"colorscale\":[[0.0,\"#0d0887\"],[0.1111111111111111,\"#46039f\"],[0.2222222222222222,\"#7201a8\"],[0.3333333333333333,\"#9c179e\"],[0.4444444444444444,\"#bd3786\"],[0.5555555555555556,\"#d8576b\"],[0.6666666666666666,\"#ed7953\"],[0.7777777777777778,\"#fb9f3a\"],[0.8888888888888888,\"#fdca26\"],[1.0,\"#f0f921\"]]}],\"heatmap\":[{\"type\":\"heatmap\",\"colorbar\":{\"outlinewidth\":0,\"ticks\":\"\"},\"colorscale\":[[0.0,\"#0d0887\"],[0.1111111111111111,\"#46039f\"],[0.2222222222222222,\"#7201a8\"],[0.3333333333333333,\"#9c179e\"],[0.4444444444444444,\"#bd3786\"],[0.5555555555555556,\"#d8576b\"],[0.6666666666666666,\"#ed7953\"],[0.7777777777777778,\"#fb9f3a\"],[0.8888888888888888,\"#fdca26\"],[1.0,\"#f0f921\"]]}],\"heatmapgl\":[{\"type\":\"heatmapgl\",\"colorbar\":{\"outlinewidth\":0,\"ticks\":\"\"},\"colorscale\":[[0.0,\"#0d0887\"],[0.1111111111111111,\"#46039f\"],[0.2222222222222222,\"#7201a8\"],[0.3333333333333333,\"#9c179e\"],[0.4444444444444444,\"#bd3786\"],[0.5555555555555556,\"#d8576b\"],[0.6666666666666666,\"#ed7953\"],[0.7777777777777778,\"#fb9f3a\"],[0.8888888888888888,\"#fdca26\"],[1.0,\"#f0f921\"]]}],\"contourcarpet\":[{\"type\":\"contourcarpet\",\"colorbar\":{\"outlinewidth\":0,\"ticks\":\"\"}}],\"contour\":[{\"type\":\"contour\",\"colorbar\":{\"outlinewidth\":0,\"ticks\":\"\"},\"colorscale\":[[0.0,\"#0d0887\"],[0.1111111111111111,\"#46039f\"],[0.2222222222222222,\"#7201a8\"],[0.3333333333333333,\"#9c179e\"],[0.4444444444444444,\"#bd3786\"],[0.5555555555555556,\"#d8576b\"],[0.6666666666666666,\"#ed7953\"],[0.7777777777777778,\"#fb9f3a\"],[0.8888888888888888,\"#fdca26\"],[1.0,\"#f0f921\"]]}],\"surface\":[{\"type\":\"surface\",\"colorbar\":{\"outlinewidth\":0,\"ticks\":\"\"},\"colorscale\":[[0.0,\"#0d0887\"],[0.1111111111111111,\"#46039f\"],[0.2222222222222222,\"#7201a8\"],[0.3333333333333333,\"#9c179e\"],[0.4444444444444444,\"#bd3786\"],[0.5555555555555556,\"#d8576b\"],[0.6666666666666666,\"#ed7953\"],[0.7777777777777778,\"#fb9f3a\"],[0.8888888888888888,\"#fdca26\"],[1.0,\"#f0f921\"]]}],\"mesh3d\":[{\"type\":\"mesh3d\",\"colorbar\":{\"outlinewidth\":0,\"ticks\":\"\"}}],\"scatter\":[{\"fillpattern\":{\"fillmode\":\"overlay\",\"size\":10,\"solidity\":0.2},\"type\":\"scatter\"}],\"parcoords\":[{\"type\":\"parcoords\",\"line\":{\"colorbar\":{\"outlinewidth\":0,\"ticks\":\"\"}}}],\"scatterpolargl\":[{\"type\":\"scatterpolargl\",\"marker\":{\"colorbar\":{\"outlinewidth\":0,\"ticks\":\"\"}}}],\"bar\":[{\"error_x\":{\"color\":\"#2a3f5f\"},\"error_y\":{\"color\":\"#2a3f5f\"},\"marker\":{\"line\":{\"color\":\"#E5ECF6\",\"width\":0.5},\"pattern\":{\"fillmode\":\"overlay\",\"size\":10,\"solidity\":0.2}},\"type\":\"bar\"}],\"scattergeo\":[{\"type\":\"scattergeo\",\"marker\":{\"colorbar\":{\"outlinewidth\":0,\"ticks\":\"\"}}}],\"scatterpolar\":[{\"type\":\"scatterpolar\",\"marker\":{\"colorbar\":{\"outlinewidth\":0,\"ticks\":\"\"}}}],\"histogram\":[{\"marker\":{\"pattern\":{\"fillmode\":\"overlay\",\"size\":10,\"solidity\":0.2}},\"type\":\"histogram\"}],\"scattergl\":[{\"type\":\"scattergl\",\"marker\":{\"colorbar\":{\"outlinewidth\":0,\"ticks\":\"\"}}}],\"scatter3d\":[{\"type\":\"scatter3d\",\"line\":{\"colorbar\":{\"outlinewidth\":0,\"ticks\":\"\"}},\"marker\":{\"colorbar\":{\"outlinewidth\":0,\"ticks\":\"\"}}}],\"scattermapbox\":[{\"type\":\"scattermapbox\",\"marker\":{\"colorbar\":{\"outlinewidth\":0,\"ticks\":\"\"}}}],\"scatterternary\":[{\"type\":\"scatterternary\",\"marker\":{\"colorbar\":{\"outlinewidth\":0,\"ticks\":\"\"}}}],\"scattercarpet\":[{\"type\":\"scattercarpet\",\"marker\":{\"colorbar\":{\"outlinewidth\":0,\"ticks\":\"\"}}}],\"carpet\":[{\"aaxis\":{\"endlinecolor\":\"#2a3f5f\",\"gridcolor\":\"white\",\"linecolor\":\"white\",\"minorgridcolor\":\"white\",\"startlinecolor\":\"#2a3f5f\"},\"baxis\":{\"endlinecolor\":\"#2a3f5f\",\"gridcolor\":\"white\",\"linecolor\":\"white\",\"minorgridcolor\":\"white\",\"startlinecolor\":\"#2a3f5f\"},\"type\":\"carpet\"}],\"table\":[{\"cells\":{\"fill\":{\"color\":\"#EBF0F8\"},\"line\":{\"color\":\"white\"}},\"header\":{\"fill\":{\"color\":\"#C8D4E3\"},\"line\":{\"color\":\"white\"}},\"type\":\"table\"}],\"barpolar\":[{\"marker\":{\"line\":{\"color\":\"#E5ECF6\",\"width\":0.5},\"pattern\":{\"fillmode\":\"overlay\",\"size\":10,\"solidity\":0.2}},\"type\":\"barpolar\"}],\"pie\":[{\"automargin\":true,\"type\":\"pie\"}]},\"layout\":{\"autotypenumbers\":\"strict\",\"colorway\":[\"#636efa\",\"#EF553B\",\"#00cc96\",\"#ab63fa\",\"#FFA15A\",\"#19d3f3\",\"#FF6692\",\"#B6E880\",\"#FF97FF\",\"#FECB52\"],\"font\":{\"color\":\"#2a3f5f\"},\"hovermode\":\"closest\",\"hoverlabel\":{\"align\":\"left\"},\"paper_bgcolor\":\"white\",\"plot_bgcolor\":\"#E5ECF6\",\"polar\":{\"bgcolor\":\"#E5ECF6\",\"angularaxis\":{\"gridcolor\":\"white\",\"linecolor\":\"white\",\"ticks\":\"\"},\"radialaxis\":{\"gridcolor\":\"white\",\"linecolor\":\"white\",\"ticks\":\"\"}},\"ternary\":{\"bgcolor\":\"#E5ECF6\",\"aaxis\":{\"gridcolor\":\"white\",\"linecolor\":\"white\",\"ticks\":\"\"},\"baxis\":{\"gridcolor\":\"white\",\"linecolor\":\"white\",\"ticks\":\"\"},\"caxis\":{\"gridcolor\":\"white\",\"linecolor\":\"white\",\"ticks\":\"\"}},\"coloraxis\":{\"colorbar\":{\"outlinewidth\":0,\"ticks\":\"\"}},\"colorscale\":{\"sequential\":[[0.0,\"#0d0887\"],[0.1111111111111111,\"#46039f\"],[0.2222222222222222,\"#7201a8\"],[0.3333333333333333,\"#9c179e\"],[0.4444444444444444,\"#bd3786\"],[0.5555555555555556,\"#d8576b\"],[0.6666666666666666,\"#ed7953\"],[0.7777777777777778,\"#fb9f3a\"],[0.8888888888888888,\"#fdca26\"],[1.0,\"#f0f921\"]],\"sequentialminus\":[[0.0,\"#0d0887\"],[0.1111111111111111,\"#46039f\"],[0.2222222222222222,\"#7201a8\"],[0.3333333333333333,\"#9c179e\"],[0.4444444444444444,\"#bd3786\"],[0.5555555555555556,\"#d8576b\"],[0.6666666666666666,\"#ed7953\"],[0.7777777777777778,\"#fb9f3a\"],[0.8888888888888888,\"#fdca26\"],[1.0,\"#f0f921\"]],\"diverging\":[[0,\"#8e0152\"],[0.1,\"#c51b7d\"],[0.2,\"#de77ae\"],[0.3,\"#f1b6da\"],[0.4,\"#fde0ef\"],[0.5,\"#f7f7f7\"],[0.6,\"#e6f5d0\"],[0.7,\"#b8e186\"],[0.8,\"#7fbc41\"],[0.9,\"#4d9221\"],[1,\"#276419\"]]},\"xaxis\":{\"gridcolor\":\"white\",\"linecolor\":\"white\",\"ticks\":\"\",\"title\":{\"standoff\":15},\"zerolinecolor\":\"white\",\"automargin\":true,\"zerolinewidth\":2},\"yaxis\":{\"gridcolor\":\"white\",\"linecolor\":\"white\",\"ticks\":\"\",\"title\":{\"standoff\":15},\"zerolinecolor\":\"white\",\"automargin\":true,\"zerolinewidth\":2},\"scene\":{\"xaxis\":{\"backgroundcolor\":\"#E5ECF6\",\"gridcolor\":\"white\",\"linecolor\":\"white\",\"showbackground\":true,\"ticks\":\"\",\"zerolinecolor\":\"white\",\"gridwidth\":2},\"yaxis\":{\"backgroundcolor\":\"#E5ECF6\",\"gridcolor\":\"white\",\"linecolor\":\"white\",\"showbackground\":true,\"ticks\":\"\",\"zerolinecolor\":\"white\",\"gridwidth\":2},\"zaxis\":{\"backgroundcolor\":\"#E5ECF6\",\"gridcolor\":\"white\",\"linecolor\":\"white\",\"showbackground\":true,\"ticks\":\"\",\"zerolinecolor\":\"white\",\"gridwidth\":2}},\"shapedefaults\":{\"line\":{\"color\":\"#2a3f5f\"}},\"annotationdefaults\":{\"arrowcolor\":\"#2a3f5f\",\"arrowhead\":0,\"arrowwidth\":1},\"geo\":{\"bgcolor\":\"white\",\"landcolor\":\"#E5ECF6\",\"subunitcolor\":\"white\",\"showland\":true,\"showlakes\":true,\"lakecolor\":\"white\"},\"title\":{\"x\":0.05},\"mapbox\":{\"style\":\"light\"}}},\"mapbox\":{\"center\":{\"lat\":-17.213565826416016,\"lon\":-45.22697448730469},\"style\":\"open-street-map\",\"zoom\":4},\"margin\":{\"r\":0,\"t\":0,\"l\":0,\"b\":0}},                        {\"responsive\": true}                    ).then(function(){\n",
       "                            \n",
       "var gd = document.getElementById('dba07931-6c5f-436b-b3a1-d3737b58b576');\n",
       "var x = new MutationObserver(function (mutations, observer) {{\n",
       "        var display = window.getComputedStyle(gd).display;\n",
       "        if (!display || display === 'none') {{\n",
       "            console.log([gd, 'removed!']);\n",
       "            Plotly.purge(gd);\n",
       "            observer.disconnect();\n",
       "        }}\n",
       "}});\n",
       "\n",
       "// Listen for the removal of the full notebook cells\n",
       "var notebookContainer = gd.closest('#notebook-container');\n",
       "if (notebookContainer) {{\n",
       "    x.observe(notebookContainer, {childList: true});\n",
       "}}\n",
       "\n",
       "// Listen for the clearing of the current output cell\n",
       "var outputEl = gd.closest('.output');\n",
       "if (outputEl) {{\n",
       "    x.observe(outputEl, {childList: true});\n",
       "}}\n",
       "\n",
       "                        })                };                });            </script>        </div>"
      ]
     },
     "metadata": {},
     "output_type": "display_data"
    }
   ],
   "source": [
    "import plotly.graph_objects as go\n",
    "\n",
    "# Criar a figura\n",
    "fig = go.Figure()\n",
    "\n",
    "# Adicionar camadas de mapa de calor para cada cluster\n",
    "for component in clusters_pd_df[\"component\"].unique():\n",
    "    cluster_data = clusters_pd_df[clusters_pd_df[\"component\"] == component]\n",
    "    fig.add_trace(go.Densitymapbox(\n",
    "        lat=cluster_data[\"LATITUDE\"],\n",
    "        lon=cluster_data[\"LONGITUDE\"],\n",
    "        z=[1]*len(cluster_data),\n",
    "        radius=40,\n",
    "        opacity=0.6,\n",
    "        showscale=False\n",
    "    ))\n",
    "\n",
    "# Adicionar os pontos dos municípios\n",
    "fig.add_trace(go.Scattermapbox(\n",
    "    lat=clusters_pd_df[\"LATITUDE\"],\n",
    "    lon=clusters_pd_df[\"LONGITUDE\"],\n",
    "    mode='markers',\n",
    "    marker=go.scattermapbox.Marker(size=9),\n",
    "    text=clusters_pd_df[\"MUNICIPIO\"],\n",
    "    hoverinfo='text',\n",
    "    marker_color=clusters_pd_df[\"component\"]\n",
    "))\n",
    "\n",
    "# Configurar o layout do mapa\n",
    "fig.update_layout(\n",
    "    mapbox=dict(\n",
    "        style=\"open-street-map\",\n",
    "        zoom=4,\n",
    "        center=dict(lat=clusters_pd_df[\"LATITUDE\"].mean(), lon=clusters_pd_df[\"LONGITUDE\"].mean())\n",
    "    ),\n",
    "    margin={\"r\":0,\"t\":0,\"l\":0,\"b\":0}\n",
    ")\n",
    "\n",
    "# Mostrar o gráfico\n",
    "fig.show()"
   ]
  }
 ],
 "metadata": {
  "kernelspec": {
   "display_name": "Python 3.10.4 64-bit",
   "language": "python",
   "name": "python3"
  },
  "language_info": {
   "codemirror_mode": {
    "name": "ipython",
    "version": 3
   },
   "file_extension": ".py",
   "mimetype": "text/x-python",
   "name": "python",
   "nbconvert_exporter": "python",
   "pygments_lexer": "ipython3",
   "version": "3.10.13"
  },
  "orig_nbformat": 4,
  "vscode": {
   "interpreter": {
    "hash": "3ad933181bd8a04b432d3370b9dc3b0662ad032c4dfaa4e4f1596c548f763858"
   }
  }
 },
 "nbformat": 4,
 "nbformat_minor": 2
}
